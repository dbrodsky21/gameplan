{
 "cells": [
  {
   "cell_type": "code",
   "execution_count": 31,
   "metadata": {},
   "outputs": [],
   "source": [
    "import pandas as pd\n",
    "import numpy as np\n"
   ]
  },
  {
   "cell_type": "code",
   "execution_count": 6,
   "metadata": {},
   "outputs": [],
   "source": [
    "from gameplan.growth.data_sources import KitcesData\n"
   ]
  },
  {
   "cell_type": "code",
   "execution_count": null,
   "metadata": {},
   "outputs": [],
   "source": [
    "from gameplan.user import User\n",
    "from gameplan.growth.growth_models import KitcesIncomeGrowthModel\n",
    "from gameplan.income_streams import Salary"
   ]
  },
  {
   "cell_type": "code",
   "execution_count": 86,
   "metadata": {},
   "outputs": [],
   "source": [
    "def get_percentile_label(x):\n",
    "    pctile = round(x) # sp.percentile returns percentiles out of 100, not 1\n",
    "    last_digit = str(pctile)[-1]\n",
    "    suffix_dict = {\n",
    "        '1' : 'st',\n",
    "        '2' : 'nd',\n",
    "        '3' : 'rd'\n",
    "    }\n",
    "\n",
    "    return f\"{pctile}{suffix_dict.get(last_digit, 'th')}\"\n",
    "\n",
    "def construct_subset_query(dma, age_range, gender):\n",
    "    if gender == 'All':\n",
    "        gender_clause = \"(sex == 'Male' | sex == 'Female')\"\n",
    "    else:\n",
    "        gender_clause = f\"sex == '{gender}'\"\n",
    "    query = f\" \\\n",
    "        metarea.str.contains(@dma) \\\n",
    "        & AGE.between(@age_range[0], @age_range[1]) \\\n",
    "        & {gender_clause} \\\n",
    "        \"\n",
    "    return query\n",
    "\n",
    "def get_cohort_subset(df, dma, age_range, gender):\n",
    "    query = construct_subset_query(dma, age_range, gender)\n",
    "    return df.query(query)\n",
    "\n",
    "def get_pctile_for_growth(x):\n",
    "    \"Current growth model only has 0, 10 ... 90th percentiles\"\n",
    "    if x == 100:\n",
    "        x -= 1\n",
    "    return np.floor(x/10)*10\n",
    "\n",
    "def get_salary_trajectory(pctile_for_growth, age, current_salary):\n",
    "    user = User(\n",
    "        email='placeholder',\n",
    "        birthday=pd.datetime.today() - pd.DateOffset(years=age),\n",
    "        income_percentile=pctile_for_growth\n",
    "        )\n",
    "\n",
    "    sal_grwth_points = user.get_growth_points_to_fit(\n",
    "        growth_model=KitcesIncomeGrowthModel,\n",
    "        start_dt=pd.datetime.today()\n",
    "    )\n",
    "    s = Salary(\n",
    "        current_salary,\n",
    "        payday_freq='Y',\n",
    "        growth_points_to_fit=sal_grwth_points,\n",
    "        last_paycheck_dt= pd.datetime.today() + pd.DateOffset(years=65 - age),\n",
    "        tax_rate=.35\n",
    "    )\n",
    "    return s\n",
    "\n",
    "def get_growth_scenarios(percentile, age, current_salary):\n",
    "    pctile_for_growth = get_pctile_for_growth(percentile)\n",
    "    growth_scenarios = {\n",
    "        'Optimistic': {'grwth_pctile': pctile_for_growth + 10},\n",
    "        'Status Quo': {'grwth_pctile': pctile_for_growth},\n",
    "        'Pessimistic': {'grwth_pctile': pctile_for_growth - 10},\n",
    "    }\n",
    "    # We don't have an \"optimistic\" scenario if you're in the 90th pctile\n",
    "    if pctile_for_growth >= 90:\n",
    "        growth_scenarios.pop('Optimistic')\n",
    "    elif pctile_for_growth <= 10:\n",
    "        growth_scenarios.pop('Pessimistic')\n",
    "\n",
    "\n",
    "    for scn, v in growth_scenarios.items():\n",
    "        v['sal_traj'] = get_salary_trajectory(v['grwth_pctile'], age, current_salary)\n",
    "\n",
    "    return growth_scenarios\n",
    "\n",
    "\n",
    "def get_income_trajectory_fig(df, salary, dma, age_range, gender, age):\n",
    "    subset = get_cohort_subset(df, dma, age_range, gender)\n",
    "    dist = get_cdf(subset)\n",
    "    percentile = sp.percentileofscore(dist.inctot, int(salary))\n",
    "    growth_scenarios = get_growth_scenarios(percentile, age, salary)\n",
    "\n",
    "\n",
    "    return px.scatter(s.paycheck_df.salary.reset_index(), 'index', 'salary')\n"
   ]
  },
  {
   "cell_type": "code",
   "execution_count": 165,
   "metadata": {},
   "outputs": [],
   "source": [
    "blah = get_growth_scenarios(80, 29, 118000)"
   ]
  },
  {
   "cell_type": "code",
   "execution_count": 166,
   "metadata": {},
   "outputs": [],
   "source": [
    "s = blah['Optimistic']['sal_traj']"
   ]
  },
  {
   "cell_type": "code",
   "execution_count": 167,
   "metadata": {},
   "outputs": [],
   "source": [
    "for scn in blah:\n",
    "    s = blah[scn]['sal_traj']\n",
    "#     px.scatter(s.paycheck_df.salary.reset_index(), 'index', 'salary')"
   ]
  },
  {
   "cell_type": "code",
   "execution_count": 168,
   "metadata": {},
   "outputs": [],
   "source": [
    "import plotly.graph_objects as go"
   ]
  },
  {
   "cell_type": "code",
   "execution_count": 170,
   "metadata": {},
   "outputs": [
    {
     "name": "stderr",
     "output_type": "stream",
     "text": [
      "/Users/davidbrodsky/repos/gameplan/gameplan/gp_collections.py:114: UserWarning:\n",
      "\n",
      "This Collection is empty.\n",
      "\n"
     ]
    },
    {
     "data": {
      "text/plain": [
       "Timedelta('10595 days 07:22:59.028265')"
      ]
     },
     "execution_count": 170,
     "metadata": {},
     "output_type": "execute_result"
    }
   ],
   "source": [
    "birthday = pd.datetime.today() - pd.DateOffset(years=29)\n",
    "blah['Status Quo']['sal_traj'].paycheck_df.index.to_series().apply(lambda x: (x - birthday)).iloc[0]"
   ]
  },
  {
   "cell_type": "code",
   "execution_count": 171,
   "metadata": {},
   "outputs": [],
   "source": [
    "age_index = [round((dt-birthday).days/365) for dt in s.date_range]"
   ]
  },
  {
   "cell_type": "code",
   "execution_count": 203,
   "metadata": {},
   "outputs": [
    {
     "name": "stderr",
     "output_type": "stream",
     "text": [
      "/Users/davidbrodsky/repos/gameplan/gameplan/gp_collections.py:114: UserWarning:\n",
      "\n",
      "This Collection is empty.\n",
      "\n"
     ]
    },
    {
     "data": {
      "application/vnd.plotly.v1+json": {
       "config": {
        "plotlyServerURL": "https://plot.ly"
       },
       "data": [
        {
         "mode": "markers+lines",
         "name": "Optimistic Growth Trajectory - 90th percentile",
         "type": "scatter",
         "x": [
          "2019-12-31T00:00:00",
          "2020-12-31T00:00:00",
          "2021-12-31T00:00:00",
          "2022-12-31T00:00:00",
          "2023-12-31T00:00:00",
          "2024-12-31T00:00:00",
          "2025-12-31T00:00:00",
          "2026-12-31T00:00:00",
          "2027-12-31T00:00:00",
          "2028-12-31T00:00:00",
          "2029-12-31T00:00:00",
          "2030-12-31T00:00:00",
          "2031-12-31T00:00:00",
          "2032-12-31T00:00:00",
          "2033-12-31T00:00:00",
          "2034-12-31T00:00:00",
          "2035-12-31T00:00:00",
          "2036-12-31T00:00:00",
          "2037-12-31T00:00:00",
          "2038-12-31T00:00:00",
          "2039-12-31T00:00:00",
          "2040-12-31T00:00:00",
          "2041-12-31T00:00:00",
          "2042-12-31T00:00:00",
          "2043-12-31T00:00:00",
          "2044-12-31T00:00:00",
          "2045-12-31T00:00:00",
          "2046-12-31T00:00:00",
          "2047-12-31T00:00:00",
          "2048-12-31T00:00:00",
          "2049-12-31T00:00:00",
          "2050-12-31T00:00:00",
          "2051-12-31T00:00:00",
          "2052-12-31T00:00:00",
          "2053-12-31T00:00:00",
          "2054-12-31T00:00:00"
         ],
         "xaxis": "x",
         "y": [
          118000,
          127103.42047424524,
          136310.77536555243,
          145599.80714505786,
          154923.60459842542,
          164260.70818560108,
          173513.07710635936,
          182659.34953409684,
          191652.6142544777,
          200469.73378216376,
          209015.50875987767,
          217267.413863352,
          225178.53787825076,
          232722.00617402728,
          239809.5792362016,
          246415.50904291737,
          252492.88437983868,
          258009.0342712857,
          262886.7974454249,
          267095.14398288674,
          270587.16266933526,
          273322.3269840327,
          275238.67229764163,
          276297.8275933543,
          276452.8816568347,
          275653.39322236273,
          273856.712702946,
          271015.06878441403,
          267081.55025243096,
          261993.7418963695,
          255732.4275714317,
          248238.37646615988,
          239464.67736621806,
          229334.88191614702,
          217857.32581319285,
          204959.25954868578
         ]
        },
        {
         "mode": "markers+lines",
         "name": "Status Quo Growth Trajectory - 80th percentile",
         "type": "scatter",
         "x": [
          "2019-12-31T00:00:00",
          "2020-12-31T00:00:00",
          "2021-12-31T00:00:00",
          "2022-12-31T00:00:00",
          "2023-12-31T00:00:00",
          "2024-12-31T00:00:00",
          "2025-12-31T00:00:00",
          "2026-12-31T00:00:00",
          "2027-12-31T00:00:00",
          "2028-12-31T00:00:00",
          "2029-12-31T00:00:00",
          "2030-12-31T00:00:00",
          "2031-12-31T00:00:00",
          "2032-12-31T00:00:00",
          "2033-12-31T00:00:00",
          "2034-12-31T00:00:00",
          "2035-12-31T00:00:00",
          "2036-12-31T00:00:00",
          "2037-12-31T00:00:00",
          "2038-12-31T00:00:00",
          "2039-12-31T00:00:00",
          "2040-12-31T00:00:00",
          "2041-12-31T00:00:00",
          "2042-12-31T00:00:00",
          "2043-12-31T00:00:00",
          "2044-12-31T00:00:00",
          "2045-12-31T00:00:00",
          "2046-12-31T00:00:00",
          "2047-12-31T00:00:00",
          "2048-12-31T00:00:00",
          "2049-12-31T00:00:00",
          "2050-12-31T00:00:00",
          "2051-12-31T00:00:00",
          "2052-12-31T00:00:00",
          "2053-12-31T00:00:00",
          "2054-12-31T00:00:00"
         ],
         "xaxis": "x",
         "y": [
          118000,
          125290.64821828755,
          132548.4479091091,
          139761.28586792646,
          146897.14064330858,
          153943.06333390507,
          160828.45703010433,
          167540.7154585712,
          174047.81716787475,
          180334.56342392522,
          186334.5058222177,
          192033.13941704974,
          197398.44275699023,
          202411.56167163953,
          207013.0074687408,
          211184.97092665348,
          214895.43059394642,
          218120.47126033946,
          220810.3751529651,
          222942.62317067396,
          224485.19386203497,
          225407.7053733167,
          225673.02205818225,
          225252.50933240293,
          224114.1457445476,
          222219.6771938629,
          219547.36136768397,
          216061.042595132,
          211728.6994247759,
          206502.79990526967,
          200379.8062647618,
          193314.6361421527,
          185275.26808601138,
          176203.48669082855,
          166116.7699327073,
          154959.70315675667
         ]
        },
        {
         "mode": "markers+lines",
         "name": "Pessimistic Growth Trajectory - 70th percentile",
         "type": "scatter",
         "x": [
          "2019-12-31T00:00:00",
          "2020-12-31T00:00:00",
          "2021-12-31T00:00:00",
          "2022-12-31T00:00:00",
          "2023-12-31T00:00:00",
          "2024-12-31T00:00:00",
          "2025-12-31T00:00:00",
          "2026-12-31T00:00:00",
          "2027-12-31T00:00:00",
          "2028-12-31T00:00:00",
          "2029-12-31T00:00:00",
          "2030-12-31T00:00:00",
          "2031-12-31T00:00:00",
          "2032-12-31T00:00:00",
          "2033-12-31T00:00:00",
          "2034-12-31T00:00:00",
          "2035-12-31T00:00:00",
          "2036-12-31T00:00:00",
          "2037-12-31T00:00:00",
          "2038-12-31T00:00:00",
          "2039-12-31T00:00:00",
          "2040-12-31T00:00:00",
          "2041-12-31T00:00:00",
          "2042-12-31T00:00:00",
          "2043-12-31T00:00:00",
          "2044-12-31T00:00:00",
          "2045-12-31T00:00:00",
          "2046-12-31T00:00:00",
          "2047-12-31T00:00:00",
          "2048-12-31T00:00:00",
          "2049-12-31T00:00:00",
          "2050-12-31T00:00:00",
          "2051-12-31T00:00:00",
          "2052-12-31T00:00:00",
          "2053-12-31T00:00:00",
          "2054-12-31T00:00:00"
         ],
         "xaxis": "x",
         "y": [
          118000,
          124162.27601280076,
          130289.14440501385,
          136368.469582192,
          142371.28018339234,
          148284.59043767522,
          154047.04963240607,
          159646.0007947389,
          165052.47256373087,
          170251.36836045832,
          175185.24137642627,
          179839.64154263324,
          184185.59749813622,
          188204.63013827073,
          191845.73999419523,
          195091.41218299564,
          197912.67534372903,
          200286.396128233,
          202170.56584283346,
          203543.3330729467,
          204375.72645762993,
          204638.68668746587,
          204301.73927946162,
          203337.42456960716,
          201716.77119695966,
          199403.52217309,
          196381.28066120052,
          192615.70703009775,
          188077.8299188388,
          182722.92294222605,
          176551.2103451707,
          169520.200811539,
          161600.9229803881,
          152738.9093519946,
          142953.54868849268,
          132192.92627105143
         ]
        },
        {
         "showlegend": false,
         "type": "scatter",
         "visible": "legendonly",
         "x": [
          29,
          30,
          31,
          32,
          33,
          34,
          35,
          36,
          37,
          38,
          39,
          40,
          41,
          42,
          43,
          44,
          45,
          46,
          47,
          48,
          49,
          50,
          51,
          52,
          53,
          54,
          55,
          56,
          57,
          58,
          59,
          60,
          61,
          62,
          63,
          64
         ],
         "xaxis": "x2",
         "y": [
          0,
          0,
          0,
          0,
          0,
          0,
          0,
          0,
          0,
          0,
          0,
          0,
          0,
          0,
          0,
          0,
          0,
          0,
          0,
          0,
          0,
          0,
          0,
          0,
          0,
          0,
          0,
          0,
          0,
          0,
          0,
          0,
          0,
          0,
          0,
          0
         ]
        }
       ],
       "layout": {
        "legend": {
         "orientation": "h",
         "y": -0.3
        },
        "template": {
         "data": {
          "bar": [
           {
            "error_x": {
             "color": "#2a3f5f"
            },
            "error_y": {
             "color": "#2a3f5f"
            },
            "marker": {
             "line": {
              "color": "#E5ECF6",
              "width": 0.5
             }
            },
            "type": "bar"
           }
          ],
          "barpolar": [
           {
            "marker": {
             "line": {
              "color": "#E5ECF6",
              "width": 0.5
             }
            },
            "type": "barpolar"
           }
          ],
          "carpet": [
           {
            "aaxis": {
             "endlinecolor": "#2a3f5f",
             "gridcolor": "white",
             "linecolor": "white",
             "minorgridcolor": "white",
             "startlinecolor": "#2a3f5f"
            },
            "baxis": {
             "endlinecolor": "#2a3f5f",
             "gridcolor": "white",
             "linecolor": "white",
             "minorgridcolor": "white",
             "startlinecolor": "#2a3f5f"
            },
            "type": "carpet"
           }
          ],
          "choropleth": [
           {
            "colorbar": {
             "outlinewidth": 0,
             "ticks": ""
            },
            "type": "choropleth"
           }
          ],
          "contour": [
           {
            "colorbar": {
             "outlinewidth": 0,
             "ticks": ""
            },
            "colorscale": [
             [
              0,
              "#0d0887"
             ],
             [
              0.1111111111111111,
              "#46039f"
             ],
             [
              0.2222222222222222,
              "#7201a8"
             ],
             [
              0.3333333333333333,
              "#9c179e"
             ],
             [
              0.4444444444444444,
              "#bd3786"
             ],
             [
              0.5555555555555556,
              "#d8576b"
             ],
             [
              0.6666666666666666,
              "#ed7953"
             ],
             [
              0.7777777777777778,
              "#fb9f3a"
             ],
             [
              0.8888888888888888,
              "#fdca26"
             ],
             [
              1,
              "#f0f921"
             ]
            ],
            "type": "contour"
           }
          ],
          "contourcarpet": [
           {
            "colorbar": {
             "outlinewidth": 0,
             "ticks": ""
            },
            "type": "contourcarpet"
           }
          ],
          "heatmap": [
           {
            "colorbar": {
             "outlinewidth": 0,
             "ticks": ""
            },
            "colorscale": [
             [
              0,
              "#0d0887"
             ],
             [
              0.1111111111111111,
              "#46039f"
             ],
             [
              0.2222222222222222,
              "#7201a8"
             ],
             [
              0.3333333333333333,
              "#9c179e"
             ],
             [
              0.4444444444444444,
              "#bd3786"
             ],
             [
              0.5555555555555556,
              "#d8576b"
             ],
             [
              0.6666666666666666,
              "#ed7953"
             ],
             [
              0.7777777777777778,
              "#fb9f3a"
             ],
             [
              0.8888888888888888,
              "#fdca26"
             ],
             [
              1,
              "#f0f921"
             ]
            ],
            "type": "heatmap"
           }
          ],
          "heatmapgl": [
           {
            "colorbar": {
             "outlinewidth": 0,
             "ticks": ""
            },
            "colorscale": [
             [
              0,
              "#0d0887"
             ],
             [
              0.1111111111111111,
              "#46039f"
             ],
             [
              0.2222222222222222,
              "#7201a8"
             ],
             [
              0.3333333333333333,
              "#9c179e"
             ],
             [
              0.4444444444444444,
              "#bd3786"
             ],
             [
              0.5555555555555556,
              "#d8576b"
             ],
             [
              0.6666666666666666,
              "#ed7953"
             ],
             [
              0.7777777777777778,
              "#fb9f3a"
             ],
             [
              0.8888888888888888,
              "#fdca26"
             ],
             [
              1,
              "#f0f921"
             ]
            ],
            "type": "heatmapgl"
           }
          ],
          "histogram": [
           {
            "marker": {
             "colorbar": {
              "outlinewidth": 0,
              "ticks": ""
             }
            },
            "type": "histogram"
           }
          ],
          "histogram2d": [
           {
            "colorbar": {
             "outlinewidth": 0,
             "ticks": ""
            },
            "colorscale": [
             [
              0,
              "#0d0887"
             ],
             [
              0.1111111111111111,
              "#46039f"
             ],
             [
              0.2222222222222222,
              "#7201a8"
             ],
             [
              0.3333333333333333,
              "#9c179e"
             ],
             [
              0.4444444444444444,
              "#bd3786"
             ],
             [
              0.5555555555555556,
              "#d8576b"
             ],
             [
              0.6666666666666666,
              "#ed7953"
             ],
             [
              0.7777777777777778,
              "#fb9f3a"
             ],
             [
              0.8888888888888888,
              "#fdca26"
             ],
             [
              1,
              "#f0f921"
             ]
            ],
            "type": "histogram2d"
           }
          ],
          "histogram2dcontour": [
           {
            "colorbar": {
             "outlinewidth": 0,
             "ticks": ""
            },
            "colorscale": [
             [
              0,
              "#0d0887"
             ],
             [
              0.1111111111111111,
              "#46039f"
             ],
             [
              0.2222222222222222,
              "#7201a8"
             ],
             [
              0.3333333333333333,
              "#9c179e"
             ],
             [
              0.4444444444444444,
              "#bd3786"
             ],
             [
              0.5555555555555556,
              "#d8576b"
             ],
             [
              0.6666666666666666,
              "#ed7953"
             ],
             [
              0.7777777777777778,
              "#fb9f3a"
             ],
             [
              0.8888888888888888,
              "#fdca26"
             ],
             [
              1,
              "#f0f921"
             ]
            ],
            "type": "histogram2dcontour"
           }
          ],
          "mesh3d": [
           {
            "colorbar": {
             "outlinewidth": 0,
             "ticks": ""
            },
            "type": "mesh3d"
           }
          ],
          "parcoords": [
           {
            "line": {
             "colorbar": {
              "outlinewidth": 0,
              "ticks": ""
             }
            },
            "type": "parcoords"
           }
          ],
          "pie": [
           {
            "automargin": true,
            "type": "pie"
           }
          ],
          "scatter": [
           {
            "marker": {
             "colorbar": {
              "outlinewidth": 0,
              "ticks": ""
             }
            },
            "type": "scatter"
           }
          ],
          "scatter3d": [
           {
            "line": {
             "colorbar": {
              "outlinewidth": 0,
              "ticks": ""
             }
            },
            "marker": {
             "colorbar": {
              "outlinewidth": 0,
              "ticks": ""
             }
            },
            "type": "scatter3d"
           }
          ],
          "scattercarpet": [
           {
            "marker": {
             "colorbar": {
              "outlinewidth": 0,
              "ticks": ""
             }
            },
            "type": "scattercarpet"
           }
          ],
          "scattergeo": [
           {
            "marker": {
             "colorbar": {
              "outlinewidth": 0,
              "ticks": ""
             }
            },
            "type": "scattergeo"
           }
          ],
          "scattergl": [
           {
            "marker": {
             "colorbar": {
              "outlinewidth": 0,
              "ticks": ""
             }
            },
            "type": "scattergl"
           }
          ],
          "scattermapbox": [
           {
            "marker": {
             "colorbar": {
              "outlinewidth": 0,
              "ticks": ""
             }
            },
            "type": "scattermapbox"
           }
          ],
          "scatterpolar": [
           {
            "marker": {
             "colorbar": {
              "outlinewidth": 0,
              "ticks": ""
             }
            },
            "type": "scatterpolar"
           }
          ],
          "scatterpolargl": [
           {
            "marker": {
             "colorbar": {
              "outlinewidth": 0,
              "ticks": ""
             }
            },
            "type": "scatterpolargl"
           }
          ],
          "scatterternary": [
           {
            "marker": {
             "colorbar": {
              "outlinewidth": 0,
              "ticks": ""
             }
            },
            "type": "scatterternary"
           }
          ],
          "surface": [
           {
            "colorbar": {
             "outlinewidth": 0,
             "ticks": ""
            },
            "colorscale": [
             [
              0,
              "#0d0887"
             ],
             [
              0.1111111111111111,
              "#46039f"
             ],
             [
              0.2222222222222222,
              "#7201a8"
             ],
             [
              0.3333333333333333,
              "#9c179e"
             ],
             [
              0.4444444444444444,
              "#bd3786"
             ],
             [
              0.5555555555555556,
              "#d8576b"
             ],
             [
              0.6666666666666666,
              "#ed7953"
             ],
             [
              0.7777777777777778,
              "#fb9f3a"
             ],
             [
              0.8888888888888888,
              "#fdca26"
             ],
             [
              1,
              "#f0f921"
             ]
            ],
            "type": "surface"
           }
          ],
          "table": [
           {
            "cells": {
             "fill": {
              "color": "#EBF0F8"
             },
             "line": {
              "color": "white"
             }
            },
            "header": {
             "fill": {
              "color": "#C8D4E3"
             },
             "line": {
              "color": "white"
             }
            },
            "type": "table"
           }
          ]
         },
         "layout": {
          "annotationdefaults": {
           "arrowcolor": "#2a3f5f",
           "arrowhead": 0,
           "arrowwidth": 1
          },
          "coloraxis": {
           "colorbar": {
            "outlinewidth": 0,
            "ticks": ""
           }
          },
          "colorscale": {
           "diverging": [
            [
             0,
             "#8e0152"
            ],
            [
             0.1,
             "#c51b7d"
            ],
            [
             0.2,
             "#de77ae"
            ],
            [
             0.3,
             "#f1b6da"
            ],
            [
             0.4,
             "#fde0ef"
            ],
            [
             0.5,
             "#f7f7f7"
            ],
            [
             0.6,
             "#e6f5d0"
            ],
            [
             0.7,
             "#b8e186"
            ],
            [
             0.8,
             "#7fbc41"
            ],
            [
             0.9,
             "#4d9221"
            ],
            [
             1,
             "#276419"
            ]
           ],
           "sequential": [
            [
             0,
             "#0d0887"
            ],
            [
             0.1111111111111111,
             "#46039f"
            ],
            [
             0.2222222222222222,
             "#7201a8"
            ],
            [
             0.3333333333333333,
             "#9c179e"
            ],
            [
             0.4444444444444444,
             "#bd3786"
            ],
            [
             0.5555555555555556,
             "#d8576b"
            ],
            [
             0.6666666666666666,
             "#ed7953"
            ],
            [
             0.7777777777777778,
             "#fb9f3a"
            ],
            [
             0.8888888888888888,
             "#fdca26"
            ],
            [
             1,
             "#f0f921"
            ]
           ],
           "sequentialminus": [
            [
             0,
             "#0d0887"
            ],
            [
             0.1111111111111111,
             "#46039f"
            ],
            [
             0.2222222222222222,
             "#7201a8"
            ],
            [
             0.3333333333333333,
             "#9c179e"
            ],
            [
             0.4444444444444444,
             "#bd3786"
            ],
            [
             0.5555555555555556,
             "#d8576b"
            ],
            [
             0.6666666666666666,
             "#ed7953"
            ],
            [
             0.7777777777777778,
             "#fb9f3a"
            ],
            [
             0.8888888888888888,
             "#fdca26"
            ],
            [
             1,
             "#f0f921"
            ]
           ]
          },
          "colorway": [
           "#636efa",
           "#EF553B",
           "#00cc96",
           "#ab63fa",
           "#FFA15A",
           "#19d3f3",
           "#FF6692",
           "#B6E880",
           "#FF97FF",
           "#FECB52"
          ],
          "font": {
           "color": "#2a3f5f"
          },
          "geo": {
           "bgcolor": "white",
           "lakecolor": "white",
           "landcolor": "#E5ECF6",
           "showlakes": true,
           "showland": true,
           "subunitcolor": "white"
          },
          "hoverlabel": {
           "align": "left"
          },
          "hovermode": "closest",
          "mapbox": {
           "style": "light"
          },
          "paper_bgcolor": "white",
          "plot_bgcolor": "#E5ECF6",
          "polar": {
           "angularaxis": {
            "gridcolor": "white",
            "linecolor": "white",
            "ticks": ""
           },
           "bgcolor": "#E5ECF6",
           "radialaxis": {
            "gridcolor": "white",
            "linecolor": "white",
            "ticks": ""
           }
          },
          "scene": {
           "xaxis": {
            "backgroundcolor": "#E5ECF6",
            "gridcolor": "white",
            "gridwidth": 2,
            "linecolor": "white",
            "showbackground": true,
            "ticks": "",
            "zerolinecolor": "white"
           },
           "yaxis": {
            "backgroundcolor": "#E5ECF6",
            "gridcolor": "white",
            "gridwidth": 2,
            "linecolor": "white",
            "showbackground": true,
            "ticks": "",
            "zerolinecolor": "white"
           },
           "zaxis": {
            "backgroundcolor": "#E5ECF6",
            "gridcolor": "white",
            "gridwidth": 2,
            "linecolor": "white",
            "showbackground": true,
            "ticks": "",
            "zerolinecolor": "white"
           }
          },
          "shapedefaults": {
           "line": {
            "color": "#2a3f5f"
           }
          },
          "ternary": {
           "aaxis": {
            "gridcolor": "white",
            "linecolor": "white",
            "ticks": ""
           },
           "baxis": {
            "gridcolor": "white",
            "linecolor": "white",
            "ticks": ""
           },
           "bgcolor": "#E5ECF6",
           "caxis": {
            "gridcolor": "white",
            "linecolor": "white",
            "ticks": ""
           }
          },
          "title": {
           "x": 0.05
          },
          "xaxis": {
           "automargin": true,
           "gridcolor": "white",
           "linecolor": "white",
           "ticks": "",
           "title": {
            "standoff": 15
           },
           "zerolinecolor": "white",
           "zerolinewidth": 2
          },
          "yaxis": {
           "automargin": true,
           "gridcolor": "white",
           "linecolor": "white",
           "ticks": "",
           "title": {
            "standoff": 15
           },
           "zerolinecolor": "white",
           "zerolinewidth": 2
          }
         }
        },
        "xaxis": {
         "range": [
          "2018-12-31T00:00:00",
          "2055-12-31T00:00:00"
         ]
        },
        "xaxis2": {
         "dtick": 2,
         "overlaying": "x",
         "range": [
          28,
          65
         ],
         "side": "top",
         "title": {
          "text": "Age"
         }
        },
        "yaxis": {
         "title": {
          "text": "Pre-Tax Income in 2019 Dollars (inflation-adjusted)"
         }
        }
       }
      },
      "text/html": [
       "<div>\n",
       "        \n",
       "        \n",
       "            <div id=\"0b0aa14f-26c9-45c4-8f3e-2b22003531e7\" class=\"plotly-graph-div\" style=\"height:525px; width:100%;\"></div>\n",
       "            <script type=\"text/javascript\">\n",
       "                require([\"plotly\"], function(Plotly) {\n",
       "                    window.PLOTLYENV=window.PLOTLYENV || {};\n",
       "                    \n",
       "                if (document.getElementById(\"0b0aa14f-26c9-45c4-8f3e-2b22003531e7\")) {\n",
       "                    Plotly.newPlot(\n",
       "                        '0b0aa14f-26c9-45c4-8f3e-2b22003531e7',\n",
       "                        [{\"mode\": \"markers+lines\", \"name\": \"Optimistic Growth Trajectory - 90th percentile\", \"type\": \"scatter\", \"x\": [\"2019-12-31T00:00:00\", \"2020-12-31T00:00:00\", \"2021-12-31T00:00:00\", \"2022-12-31T00:00:00\", \"2023-12-31T00:00:00\", \"2024-12-31T00:00:00\", \"2025-12-31T00:00:00\", \"2026-12-31T00:00:00\", \"2027-12-31T00:00:00\", \"2028-12-31T00:00:00\", \"2029-12-31T00:00:00\", \"2030-12-31T00:00:00\", \"2031-12-31T00:00:00\", \"2032-12-31T00:00:00\", \"2033-12-31T00:00:00\", \"2034-12-31T00:00:00\", \"2035-12-31T00:00:00\", \"2036-12-31T00:00:00\", \"2037-12-31T00:00:00\", \"2038-12-31T00:00:00\", \"2039-12-31T00:00:00\", \"2040-12-31T00:00:00\", \"2041-12-31T00:00:00\", \"2042-12-31T00:00:00\", \"2043-12-31T00:00:00\", \"2044-12-31T00:00:00\", \"2045-12-31T00:00:00\", \"2046-12-31T00:00:00\", \"2047-12-31T00:00:00\", \"2048-12-31T00:00:00\", \"2049-12-31T00:00:00\", \"2050-12-31T00:00:00\", \"2051-12-31T00:00:00\", \"2052-12-31T00:00:00\", \"2053-12-31T00:00:00\", \"2054-12-31T00:00:00\"], \"xaxis\": \"x\", \"y\": [118000.0, 127103.42047424524, 136310.77536555243, 145599.80714505786, 154923.60459842542, 164260.70818560108, 173513.07710635936, 182659.34953409684, 191652.6142544777, 200469.73378216376, 209015.50875987767, 217267.413863352, 225178.53787825076, 232722.00617402728, 239809.5792362016, 246415.50904291737, 252492.88437983868, 258009.0342712857, 262886.7974454249, 267095.14398288674, 270587.16266933526, 273322.3269840327, 275238.67229764163, 276297.8275933543, 276452.8816568347, 275653.39322236273, 273856.712702946, 271015.06878441403, 267081.55025243096, 261993.7418963695, 255732.4275714317, 248238.37646615988, 239464.67736621806, 229334.88191614702, 217857.32581319285, 204959.25954868578]}, {\"mode\": \"markers+lines\", \"name\": \"Status Quo Growth Trajectory - 80th percentile\", \"type\": \"scatter\", \"x\": [\"2019-12-31T00:00:00\", \"2020-12-31T00:00:00\", \"2021-12-31T00:00:00\", \"2022-12-31T00:00:00\", \"2023-12-31T00:00:00\", \"2024-12-31T00:00:00\", \"2025-12-31T00:00:00\", \"2026-12-31T00:00:00\", \"2027-12-31T00:00:00\", \"2028-12-31T00:00:00\", \"2029-12-31T00:00:00\", \"2030-12-31T00:00:00\", \"2031-12-31T00:00:00\", \"2032-12-31T00:00:00\", \"2033-12-31T00:00:00\", \"2034-12-31T00:00:00\", \"2035-12-31T00:00:00\", \"2036-12-31T00:00:00\", \"2037-12-31T00:00:00\", \"2038-12-31T00:00:00\", \"2039-12-31T00:00:00\", \"2040-12-31T00:00:00\", \"2041-12-31T00:00:00\", \"2042-12-31T00:00:00\", \"2043-12-31T00:00:00\", \"2044-12-31T00:00:00\", \"2045-12-31T00:00:00\", \"2046-12-31T00:00:00\", \"2047-12-31T00:00:00\", \"2048-12-31T00:00:00\", \"2049-12-31T00:00:00\", \"2050-12-31T00:00:00\", \"2051-12-31T00:00:00\", \"2052-12-31T00:00:00\", \"2053-12-31T00:00:00\", \"2054-12-31T00:00:00\"], \"xaxis\": \"x\", \"y\": [118000.0, 125290.64821828755, 132548.4479091091, 139761.28586792646, 146897.14064330858, 153943.06333390507, 160828.45703010433, 167540.7154585712, 174047.81716787475, 180334.56342392522, 186334.5058222177, 192033.13941704974, 197398.44275699023, 202411.56167163953, 207013.0074687408, 211184.97092665348, 214895.43059394642, 218120.47126033946, 220810.3751529651, 222942.62317067396, 224485.19386203497, 225407.7053733167, 225673.02205818225, 225252.50933240293, 224114.1457445476, 222219.6771938629, 219547.36136768397, 216061.042595132, 211728.6994247759, 206502.79990526967, 200379.8062647618, 193314.6361421527, 185275.26808601138, 176203.48669082855, 166116.7699327073, 154959.70315675667]}, {\"mode\": \"markers+lines\", \"name\": \"Pessimistic Growth Trajectory - 70th percentile\", \"type\": \"scatter\", \"x\": [\"2019-12-31T00:00:00\", \"2020-12-31T00:00:00\", \"2021-12-31T00:00:00\", \"2022-12-31T00:00:00\", \"2023-12-31T00:00:00\", \"2024-12-31T00:00:00\", \"2025-12-31T00:00:00\", \"2026-12-31T00:00:00\", \"2027-12-31T00:00:00\", \"2028-12-31T00:00:00\", \"2029-12-31T00:00:00\", \"2030-12-31T00:00:00\", \"2031-12-31T00:00:00\", \"2032-12-31T00:00:00\", \"2033-12-31T00:00:00\", \"2034-12-31T00:00:00\", \"2035-12-31T00:00:00\", \"2036-12-31T00:00:00\", \"2037-12-31T00:00:00\", \"2038-12-31T00:00:00\", \"2039-12-31T00:00:00\", \"2040-12-31T00:00:00\", \"2041-12-31T00:00:00\", \"2042-12-31T00:00:00\", \"2043-12-31T00:00:00\", \"2044-12-31T00:00:00\", \"2045-12-31T00:00:00\", \"2046-12-31T00:00:00\", \"2047-12-31T00:00:00\", \"2048-12-31T00:00:00\", \"2049-12-31T00:00:00\", \"2050-12-31T00:00:00\", \"2051-12-31T00:00:00\", \"2052-12-31T00:00:00\", \"2053-12-31T00:00:00\", \"2054-12-31T00:00:00\"], \"xaxis\": \"x\", \"y\": [118000.0, 124162.27601280076, 130289.14440501385, 136368.469582192, 142371.28018339234, 148284.59043767522, 154047.04963240607, 159646.0007947389, 165052.47256373087, 170251.36836045832, 175185.24137642627, 179839.64154263324, 184185.59749813622, 188204.63013827073, 191845.73999419523, 195091.41218299564, 197912.67534372903, 200286.396128233, 202170.56584283346, 203543.3330729467, 204375.72645762993, 204638.68668746587, 204301.73927946162, 203337.42456960716, 201716.77119695966, 199403.52217309, 196381.28066120052, 192615.70703009775, 188077.8299188388, 182722.92294222605, 176551.2103451707, 169520.200811539, 161600.9229803881, 152738.9093519946, 142953.54868849268, 132192.92627105143]}, {\"showlegend\": false, \"type\": \"scatter\", \"visible\": \"legendonly\", \"x\": [29, 30, 31, 32, 33, 34, 35, 36, 37, 38, 39, 40, 41, 42, 43, 44, 45, 46, 47, 48, 49, 50, 51, 52, 53, 54, 55, 56, 57, 58, 59, 60, 61, 62, 63, 64], \"xaxis\": \"x2\", \"y\": [0, 0, 0, 0, 0, 0, 0, 0, 0, 0, 0, 0, 0, 0, 0, 0, 0, 0, 0, 0, 0, 0, 0, 0, 0, 0, 0, 0, 0, 0, 0, 0, 0, 0, 0, 0]}],\n",
       "                        {\"legend\": {\"orientation\": \"h\", \"y\": -0.3}, \"template\": {\"data\": {\"bar\": [{\"error_x\": {\"color\": \"#2a3f5f\"}, \"error_y\": {\"color\": \"#2a3f5f\"}, \"marker\": {\"line\": {\"color\": \"#E5ECF6\", \"width\": 0.5}}, \"type\": \"bar\"}], \"barpolar\": [{\"marker\": {\"line\": {\"color\": \"#E5ECF6\", \"width\": 0.5}}, \"type\": \"barpolar\"}], \"carpet\": [{\"aaxis\": {\"endlinecolor\": \"#2a3f5f\", \"gridcolor\": \"white\", \"linecolor\": \"white\", \"minorgridcolor\": \"white\", \"startlinecolor\": \"#2a3f5f\"}, \"baxis\": {\"endlinecolor\": \"#2a3f5f\", \"gridcolor\": \"white\", \"linecolor\": \"white\", \"minorgridcolor\": \"white\", \"startlinecolor\": \"#2a3f5f\"}, \"type\": \"carpet\"}], \"choropleth\": [{\"colorbar\": {\"outlinewidth\": 0, \"ticks\": \"\"}, \"type\": \"choropleth\"}], \"contour\": [{\"colorbar\": {\"outlinewidth\": 0, \"ticks\": \"\"}, \"colorscale\": [[0.0, \"#0d0887\"], [0.1111111111111111, \"#46039f\"], [0.2222222222222222, \"#7201a8\"], [0.3333333333333333, \"#9c179e\"], [0.4444444444444444, \"#bd3786\"], [0.5555555555555556, \"#d8576b\"], [0.6666666666666666, \"#ed7953\"], [0.7777777777777778, \"#fb9f3a\"], [0.8888888888888888, \"#fdca26\"], [1.0, \"#f0f921\"]], \"type\": \"contour\"}], \"contourcarpet\": [{\"colorbar\": {\"outlinewidth\": 0, \"ticks\": \"\"}, \"type\": \"contourcarpet\"}], \"heatmap\": [{\"colorbar\": {\"outlinewidth\": 0, \"ticks\": \"\"}, \"colorscale\": [[0.0, \"#0d0887\"], [0.1111111111111111, \"#46039f\"], [0.2222222222222222, \"#7201a8\"], [0.3333333333333333, \"#9c179e\"], [0.4444444444444444, \"#bd3786\"], [0.5555555555555556, \"#d8576b\"], [0.6666666666666666, \"#ed7953\"], [0.7777777777777778, \"#fb9f3a\"], [0.8888888888888888, \"#fdca26\"], [1.0, \"#f0f921\"]], \"type\": \"heatmap\"}], \"heatmapgl\": [{\"colorbar\": {\"outlinewidth\": 0, \"ticks\": \"\"}, \"colorscale\": [[0.0, \"#0d0887\"], [0.1111111111111111, \"#46039f\"], [0.2222222222222222, \"#7201a8\"], [0.3333333333333333, \"#9c179e\"], [0.4444444444444444, \"#bd3786\"], [0.5555555555555556, \"#d8576b\"], [0.6666666666666666, \"#ed7953\"], [0.7777777777777778, \"#fb9f3a\"], [0.8888888888888888, \"#fdca26\"], [1.0, \"#f0f921\"]], \"type\": \"heatmapgl\"}], \"histogram\": [{\"marker\": {\"colorbar\": {\"outlinewidth\": 0, \"ticks\": \"\"}}, \"type\": \"histogram\"}], \"histogram2d\": [{\"colorbar\": {\"outlinewidth\": 0, \"ticks\": \"\"}, \"colorscale\": [[0.0, \"#0d0887\"], [0.1111111111111111, \"#46039f\"], [0.2222222222222222, \"#7201a8\"], [0.3333333333333333, \"#9c179e\"], [0.4444444444444444, \"#bd3786\"], [0.5555555555555556, \"#d8576b\"], [0.6666666666666666, \"#ed7953\"], [0.7777777777777778, \"#fb9f3a\"], [0.8888888888888888, \"#fdca26\"], [1.0, \"#f0f921\"]], \"type\": \"histogram2d\"}], \"histogram2dcontour\": [{\"colorbar\": {\"outlinewidth\": 0, \"ticks\": \"\"}, \"colorscale\": [[0.0, \"#0d0887\"], [0.1111111111111111, \"#46039f\"], [0.2222222222222222, \"#7201a8\"], [0.3333333333333333, \"#9c179e\"], [0.4444444444444444, \"#bd3786\"], [0.5555555555555556, \"#d8576b\"], [0.6666666666666666, \"#ed7953\"], [0.7777777777777778, \"#fb9f3a\"], [0.8888888888888888, \"#fdca26\"], [1.0, \"#f0f921\"]], \"type\": \"histogram2dcontour\"}], \"mesh3d\": [{\"colorbar\": {\"outlinewidth\": 0, \"ticks\": \"\"}, \"type\": \"mesh3d\"}], \"parcoords\": [{\"line\": {\"colorbar\": {\"outlinewidth\": 0, \"ticks\": \"\"}}, \"type\": \"parcoords\"}], \"pie\": [{\"automargin\": true, \"type\": \"pie\"}], \"scatter\": [{\"marker\": {\"colorbar\": {\"outlinewidth\": 0, \"ticks\": \"\"}}, \"type\": \"scatter\"}], \"scatter3d\": [{\"line\": {\"colorbar\": {\"outlinewidth\": 0, \"ticks\": \"\"}}, \"marker\": {\"colorbar\": {\"outlinewidth\": 0, \"ticks\": \"\"}}, \"type\": \"scatter3d\"}], \"scattercarpet\": [{\"marker\": {\"colorbar\": {\"outlinewidth\": 0, \"ticks\": \"\"}}, \"type\": \"scattercarpet\"}], \"scattergeo\": [{\"marker\": {\"colorbar\": {\"outlinewidth\": 0, \"ticks\": \"\"}}, \"type\": \"scattergeo\"}], \"scattergl\": [{\"marker\": {\"colorbar\": {\"outlinewidth\": 0, \"ticks\": \"\"}}, \"type\": \"scattergl\"}], \"scattermapbox\": [{\"marker\": {\"colorbar\": {\"outlinewidth\": 0, \"ticks\": \"\"}}, \"type\": \"scattermapbox\"}], \"scatterpolar\": [{\"marker\": {\"colorbar\": {\"outlinewidth\": 0, \"ticks\": \"\"}}, \"type\": \"scatterpolar\"}], \"scatterpolargl\": [{\"marker\": {\"colorbar\": {\"outlinewidth\": 0, \"ticks\": \"\"}}, \"type\": \"scatterpolargl\"}], \"scatterternary\": [{\"marker\": {\"colorbar\": {\"outlinewidth\": 0, \"ticks\": \"\"}}, \"type\": \"scatterternary\"}], \"surface\": [{\"colorbar\": {\"outlinewidth\": 0, \"ticks\": \"\"}, \"colorscale\": [[0.0, \"#0d0887\"], [0.1111111111111111, \"#46039f\"], [0.2222222222222222, \"#7201a8\"], [0.3333333333333333, \"#9c179e\"], [0.4444444444444444, \"#bd3786\"], [0.5555555555555556, \"#d8576b\"], [0.6666666666666666, \"#ed7953\"], [0.7777777777777778, \"#fb9f3a\"], [0.8888888888888888, \"#fdca26\"], [1.0, \"#f0f921\"]], \"type\": \"surface\"}], \"table\": [{\"cells\": {\"fill\": {\"color\": \"#EBF0F8\"}, \"line\": {\"color\": \"white\"}}, \"header\": {\"fill\": {\"color\": \"#C8D4E3\"}, \"line\": {\"color\": \"white\"}}, \"type\": \"table\"}]}, \"layout\": {\"annotationdefaults\": {\"arrowcolor\": \"#2a3f5f\", \"arrowhead\": 0, \"arrowwidth\": 1}, \"coloraxis\": {\"colorbar\": {\"outlinewidth\": 0, \"ticks\": \"\"}}, \"colorscale\": {\"diverging\": [[0, \"#8e0152\"], [0.1, \"#c51b7d\"], [0.2, \"#de77ae\"], [0.3, \"#f1b6da\"], [0.4, \"#fde0ef\"], [0.5, \"#f7f7f7\"], [0.6, \"#e6f5d0\"], [0.7, \"#b8e186\"], [0.8, \"#7fbc41\"], [0.9, \"#4d9221\"], [1, \"#276419\"]], \"sequential\": [[0.0, \"#0d0887\"], [0.1111111111111111, \"#46039f\"], [0.2222222222222222, \"#7201a8\"], [0.3333333333333333, \"#9c179e\"], [0.4444444444444444, \"#bd3786\"], [0.5555555555555556, \"#d8576b\"], [0.6666666666666666, \"#ed7953\"], [0.7777777777777778, \"#fb9f3a\"], [0.8888888888888888, \"#fdca26\"], [1.0, \"#f0f921\"]], \"sequentialminus\": [[0.0, \"#0d0887\"], [0.1111111111111111, \"#46039f\"], [0.2222222222222222, \"#7201a8\"], [0.3333333333333333, \"#9c179e\"], [0.4444444444444444, \"#bd3786\"], [0.5555555555555556, \"#d8576b\"], [0.6666666666666666, \"#ed7953\"], [0.7777777777777778, \"#fb9f3a\"], [0.8888888888888888, \"#fdca26\"], [1.0, \"#f0f921\"]]}, \"colorway\": [\"#636efa\", \"#EF553B\", \"#00cc96\", \"#ab63fa\", \"#FFA15A\", \"#19d3f3\", \"#FF6692\", \"#B6E880\", \"#FF97FF\", \"#FECB52\"], \"font\": {\"color\": \"#2a3f5f\"}, \"geo\": {\"bgcolor\": \"white\", \"lakecolor\": \"white\", \"landcolor\": \"#E5ECF6\", \"showlakes\": true, \"showland\": true, \"subunitcolor\": \"white\"}, \"hoverlabel\": {\"align\": \"left\"}, \"hovermode\": \"closest\", \"mapbox\": {\"style\": \"light\"}, \"paper_bgcolor\": \"white\", \"plot_bgcolor\": \"#E5ECF6\", \"polar\": {\"angularaxis\": {\"gridcolor\": \"white\", \"linecolor\": \"white\", \"ticks\": \"\"}, \"bgcolor\": \"#E5ECF6\", \"radialaxis\": {\"gridcolor\": \"white\", \"linecolor\": \"white\", \"ticks\": \"\"}}, \"scene\": {\"xaxis\": {\"backgroundcolor\": \"#E5ECF6\", \"gridcolor\": \"white\", \"gridwidth\": 2, \"linecolor\": \"white\", \"showbackground\": true, \"ticks\": \"\", \"zerolinecolor\": \"white\"}, \"yaxis\": {\"backgroundcolor\": \"#E5ECF6\", \"gridcolor\": \"white\", \"gridwidth\": 2, \"linecolor\": \"white\", \"showbackground\": true, \"ticks\": \"\", \"zerolinecolor\": \"white\"}, \"zaxis\": {\"backgroundcolor\": \"#E5ECF6\", \"gridcolor\": \"white\", \"gridwidth\": 2, \"linecolor\": \"white\", \"showbackground\": true, \"ticks\": \"\", \"zerolinecolor\": \"white\"}}, \"shapedefaults\": {\"line\": {\"color\": \"#2a3f5f\"}}, \"ternary\": {\"aaxis\": {\"gridcolor\": \"white\", \"linecolor\": \"white\", \"ticks\": \"\"}, \"baxis\": {\"gridcolor\": \"white\", \"linecolor\": \"white\", \"ticks\": \"\"}, \"bgcolor\": \"#E5ECF6\", \"caxis\": {\"gridcolor\": \"white\", \"linecolor\": \"white\", \"ticks\": \"\"}}, \"title\": {\"x\": 0.05}, \"xaxis\": {\"automargin\": true, \"gridcolor\": \"white\", \"linecolor\": \"white\", \"ticks\": \"\", \"title\": {\"standoff\": 15}, \"zerolinecolor\": \"white\", \"zerolinewidth\": 2}, \"yaxis\": {\"automargin\": true, \"gridcolor\": \"white\", \"linecolor\": \"white\", \"ticks\": \"\", \"title\": {\"standoff\": 15}, \"zerolinecolor\": \"white\", \"zerolinewidth\": 2}}}, \"xaxis\": {\"range\": [\"2018-12-31T00:00:00\", \"2055-12-31T00:00:00\"]}, \"xaxis2\": {\"dtick\": 2, \"overlaying\": \"x\", \"range\": [28, 65], \"side\": \"top\", \"title\": {\"text\": \"Age\"}}, \"yaxis\": {\"title\": {\"text\": \"Pre-Tax Income in 2019 Dollars (inflation-adjusted)\"}}},\n",
       "                        {\"responsive\": true}\n",
       "                    ).then(function(){\n",
       "                            \n",
       "var gd = document.getElementById('0b0aa14f-26c9-45c4-8f3e-2b22003531e7');\n",
       "var x = new MutationObserver(function (mutations, observer) {{\n",
       "        var display = window.getComputedStyle(gd).display;\n",
       "        if (!display || display === 'none') {{\n",
       "            console.log([gd, 'removed!']);\n",
       "            Plotly.purge(gd);\n",
       "            observer.disconnect();\n",
       "        }}\n",
       "}});\n",
       "\n",
       "// Listen for the removal of the full notebook cells\n",
       "var notebookContainer = gd.closest('#notebook-container');\n",
       "if (notebookContainer) {{\n",
       "    x.observe(notebookContainer, {childList: true});\n",
       "}}\n",
       "\n",
       "// Listen for the clearing of the current output cell\n",
       "var outputEl = gd.closest('.output');\n",
       "if (outputEl) {{\n",
       "    x.observe(outputEl, {childList: true});\n",
       "}}\n",
       "\n",
       "                        })\n",
       "                };\n",
       "                });\n",
       "            </script>\n",
       "        </div>"
      ]
     },
     "metadata": {},
     "output_type": "display_data"
    }
   ],
   "source": [
    "data = [\n",
    "    go.Scatter(\n",
    "        x=v['sal_traj'].paycheck_df.index,\n",
    "        y=v['sal_traj'].paycheck_df.salary,\n",
    "        name=f\"{scn} Growth Trajectory - {int(v['grwth_pctile'])}th percentile\",\n",
    "        mode='markers+lines',\n",
    "        xaxis='x'\n",
    "    )\n",
    "    for scn, v in blah.items()\n",
    "]\n",
    "\n",
    "data.append(\n",
    "    go.Scatter(x=age_index, y=[0]*len(age_index), xaxis='x2', visible='legendonly', \n",
    "               showlegend=False)\n",
    ")\n",
    "\n",
    "layout = go.Layout(\n",
    "    title=go.layout.Title(text=''),\n",
    "    xaxis=go.layout.XAxis(\n",
    "        range=[min(s.date_range) - pd.DateOffset(years=1), max(s.date_range) + pd.DateOffset(years=1)],\n",
    "        \n",
    "    ),\n",
    "    xaxis2=go.layout.XAxis(\n",
    "        title='Age',\n",
    "        overlaying='x', \n",
    "        side='top',\n",
    "        dtick=2,\n",
    "#         tickvals=[x for x in age_index if x%5 == 0 ],\n",
    "        range=[min(age_index) - 1, max(age_index) + 1]\n",
    "    ),\n",
    "    yaxis=go.layout.YAxis(\n",
    "        title='Pre-Tax Income in 2019 Dollars (inflation-adjusted)'\n",
    "    ),\n",
    "    legend=go.layout.Legend(orientation='h', y=-0.3),   \n",
    ")\n",
    "\n",
    "\n",
    "go.Figure(data, layout)"
   ]
  },
  {
   "cell_type": "code",
   "execution_count": null,
   "metadata": {},
   "outputs": [],
   "source": []
  },
  {
   "cell_type": "code",
   "execution_count": 94,
   "metadata": {},
   "outputs": [
    {
     "name": "stderr",
     "output_type": "stream",
     "text": [
      "/Users/davidbrodsky/repos/gameplan/gameplan/gp_collections.py:114: UserWarning:\n",
      "\n",
      "This Collection is empty.\n",
      "\n"
     ]
    },
    {
     "data": {
      "text/html": [
       "<div>\n",
       "<style scoped>\n",
       "    .dataframe tbody tr th:only-of-type {\n",
       "        vertical-align: middle;\n",
       "    }\n",
       "\n",
       "    .dataframe tbody tr th {\n",
       "        vertical-align: top;\n",
       "    }\n",
       "\n",
       "    .dataframe thead th {\n",
       "        text-align: right;\n",
       "    }\n",
       "</style>\n",
       "<table border=\"1\" class=\"dataframe\">\n",
       "  <thead>\n",
       "    <tr style=\"text-align: right;\">\n",
       "      <th></th>\n",
       "      <th>salary</th>\n",
       "      <th>total_deductions</th>\n",
       "      <th>total_taxes</th>\n",
       "      <th>take_home_salary</th>\n",
       "    </tr>\n",
       "  </thead>\n",
       "  <tbody>\n",
       "    <tr>\n",
       "      <th>2019-12-31</th>\n",
       "      <td>118000.000000</td>\n",
       "      <td>0.0</td>\n",
       "      <td>-41300.000000</td>\n",
       "      <td>76700.000000</td>\n",
       "    </tr>\n",
       "    <tr>\n",
       "      <th>2020-12-31</th>\n",
       "      <td>124162.276013</td>\n",
       "      <td>0.0</td>\n",
       "      <td>-43456.796604</td>\n",
       "      <td>80705.479408</td>\n",
       "    </tr>\n",
       "    <tr>\n",
       "      <th>2021-12-31</th>\n",
       "      <td>130289.144405</td>\n",
       "      <td>0.0</td>\n",
       "      <td>-45601.200542</td>\n",
       "      <td>84687.943863</td>\n",
       "    </tr>\n",
       "    <tr>\n",
       "      <th>2022-12-31</th>\n",
       "      <td>136368.469582</td>\n",
       "      <td>0.0</td>\n",
       "      <td>-47728.964354</td>\n",
       "      <td>88639.505228</td>\n",
       "    </tr>\n",
       "    <tr>\n",
       "      <th>2023-12-31</th>\n",
       "      <td>142371.280183</td>\n",
       "      <td>0.0</td>\n",
       "      <td>-49829.948064</td>\n",
       "      <td>92541.332119</td>\n",
       "    </tr>\n",
       "    <tr>\n",
       "      <th>2024-12-31</th>\n",
       "      <td>148284.590438</td>\n",
       "      <td>0.0</td>\n",
       "      <td>-51899.606653</td>\n",
       "      <td>96384.983784</td>\n",
       "    </tr>\n",
       "    <tr>\n",
       "      <th>2025-12-31</th>\n",
       "      <td>154047.049632</td>\n",
       "      <td>0.0</td>\n",
       "      <td>-53916.467371</td>\n",
       "      <td>100130.582261</td>\n",
       "    </tr>\n",
       "    <tr>\n",
       "      <th>2026-12-31</th>\n",
       "      <td>159646.000795</td>\n",
       "      <td>0.0</td>\n",
       "      <td>-55876.100278</td>\n",
       "      <td>103769.900517</td>\n",
       "    </tr>\n",
       "    <tr>\n",
       "      <th>2027-12-31</th>\n",
       "      <td>165052.472564</td>\n",
       "      <td>0.0</td>\n",
       "      <td>-57768.365397</td>\n",
       "      <td>107284.107166</td>\n",
       "    </tr>\n",
       "    <tr>\n",
       "      <th>2028-12-31</th>\n",
       "      <td>170251.368360</td>\n",
       "      <td>0.0</td>\n",
       "      <td>-59587.978926</td>\n",
       "      <td>110663.389434</td>\n",
       "    </tr>\n",
       "    <tr>\n",
       "      <th>2029-12-31</th>\n",
       "      <td>175185.241376</td>\n",
       "      <td>0.0</td>\n",
       "      <td>-61314.834482</td>\n",
       "      <td>113870.406895</td>\n",
       "    </tr>\n",
       "    <tr>\n",
       "      <th>2030-12-31</th>\n",
       "      <td>179839.641543</td>\n",
       "      <td>0.0</td>\n",
       "      <td>-62943.874540</td>\n",
       "      <td>116895.767003</td>\n",
       "    </tr>\n",
       "    <tr>\n",
       "      <th>2031-12-31</th>\n",
       "      <td>184185.597498</td>\n",
       "      <td>0.0</td>\n",
       "      <td>-64464.959124</td>\n",
       "      <td>119720.638374</td>\n",
       "    </tr>\n",
       "    <tr>\n",
       "      <th>2032-12-31</th>\n",
       "      <td>188204.630138</td>\n",
       "      <td>0.0</td>\n",
       "      <td>-65871.620548</td>\n",
       "      <td>122333.009590</td>\n",
       "    </tr>\n",
       "    <tr>\n",
       "      <th>2033-12-31</th>\n",
       "      <td>191845.739994</td>\n",
       "      <td>0.0</td>\n",
       "      <td>-67146.008998</td>\n",
       "      <td>124699.730996</td>\n",
       "    </tr>\n",
       "    <tr>\n",
       "      <th>2034-12-31</th>\n",
       "      <td>195091.412183</td>\n",
       "      <td>0.0</td>\n",
       "      <td>-68281.994264</td>\n",
       "      <td>126809.417919</td>\n",
       "    </tr>\n",
       "    <tr>\n",
       "      <th>2035-12-31</th>\n",
       "      <td>197912.675344</td>\n",
       "      <td>0.0</td>\n",
       "      <td>-69269.436370</td>\n",
       "      <td>128643.238973</td>\n",
       "    </tr>\n",
       "    <tr>\n",
       "      <th>2036-12-31</th>\n",
       "      <td>200286.396128</td>\n",
       "      <td>0.0</td>\n",
       "      <td>-70100.238645</td>\n",
       "      <td>130186.157483</td>\n",
       "    </tr>\n",
       "    <tr>\n",
       "      <th>2037-12-31</th>\n",
       "      <td>202170.565843</td>\n",
       "      <td>0.0</td>\n",
       "      <td>-70759.698045</td>\n",
       "      <td>131410.867798</td>\n",
       "    </tr>\n",
       "    <tr>\n",
       "      <th>2038-12-31</th>\n",
       "      <td>203543.333073</td>\n",
       "      <td>0.0</td>\n",
       "      <td>-71240.166576</td>\n",
       "      <td>132303.166497</td>\n",
       "    </tr>\n",
       "    <tr>\n",
       "      <th>2039-12-31</th>\n",
       "      <td>204375.726458</td>\n",
       "      <td>0.0</td>\n",
       "      <td>-71531.504260</td>\n",
       "      <td>132844.222197</td>\n",
       "    </tr>\n",
       "    <tr>\n",
       "      <th>2040-12-31</th>\n",
       "      <td>204638.686687</td>\n",
       "      <td>0.0</td>\n",
       "      <td>-71623.540341</td>\n",
       "      <td>133015.146347</td>\n",
       "    </tr>\n",
       "    <tr>\n",
       "      <th>2041-12-31</th>\n",
       "      <td>204301.739279</td>\n",
       "      <td>0.0</td>\n",
       "      <td>-71505.608748</td>\n",
       "      <td>132796.130532</td>\n",
       "    </tr>\n",
       "    <tr>\n",
       "      <th>2042-12-31</th>\n",
       "      <td>203337.424570</td>\n",
       "      <td>0.0</td>\n",
       "      <td>-71168.098599</td>\n",
       "      <td>132169.325970</td>\n",
       "    </tr>\n",
       "    <tr>\n",
       "      <th>2043-12-31</th>\n",
       "      <td>201716.771197</td>\n",
       "      <td>0.0</td>\n",
       "      <td>-70600.869919</td>\n",
       "      <td>131115.901278</td>\n",
       "    </tr>\n",
       "    <tr>\n",
       "      <th>2044-12-31</th>\n",
       "      <td>199403.522173</td>\n",
       "      <td>0.0</td>\n",
       "      <td>-69791.232761</td>\n",
       "      <td>129612.289413</td>\n",
       "    </tr>\n",
       "    <tr>\n",
       "      <th>2045-12-31</th>\n",
       "      <td>196381.280661</td>\n",
       "      <td>0.0</td>\n",
       "      <td>-68733.448231</td>\n",
       "      <td>127647.832430</td>\n",
       "    </tr>\n",
       "    <tr>\n",
       "      <th>2046-12-31</th>\n",
       "      <td>192615.707030</td>\n",
       "      <td>0.0</td>\n",
       "      <td>-67415.497461</td>\n",
       "      <td>125200.209570</td>\n",
       "    </tr>\n",
       "    <tr>\n",
       "      <th>2047-12-31</th>\n",
       "      <td>188077.829919</td>\n",
       "      <td>0.0</td>\n",
       "      <td>-65827.240472</td>\n",
       "      <td>122250.589447</td>\n",
       "    </tr>\n",
       "    <tr>\n",
       "      <th>2048-12-31</th>\n",
       "      <td>182722.922942</td>\n",
       "      <td>0.0</td>\n",
       "      <td>-63953.023030</td>\n",
       "      <td>118769.899912</td>\n",
       "    </tr>\n",
       "    <tr>\n",
       "      <th>2049-12-31</th>\n",
       "      <td>176551.210345</td>\n",
       "      <td>0.0</td>\n",
       "      <td>-61792.923621</td>\n",
       "      <td>114758.286724</td>\n",
       "    </tr>\n",
       "    <tr>\n",
       "      <th>2050-12-31</th>\n",
       "      <td>169520.200812</td>\n",
       "      <td>0.0</td>\n",
       "      <td>-59332.070284</td>\n",
       "      <td>110188.130528</td>\n",
       "    </tr>\n",
       "    <tr>\n",
       "      <th>2051-12-31</th>\n",
       "      <td>161600.922980</td>\n",
       "      <td>0.0</td>\n",
       "      <td>-56560.323043</td>\n",
       "      <td>105040.599937</td>\n",
       "    </tr>\n",
       "    <tr>\n",
       "      <th>2052-12-31</th>\n",
       "      <td>152738.909352</td>\n",
       "      <td>0.0</td>\n",
       "      <td>-53458.618273</td>\n",
       "      <td>99280.291079</td>\n",
       "    </tr>\n",
       "    <tr>\n",
       "      <th>2053-12-31</th>\n",
       "      <td>142953.548688</td>\n",
       "      <td>0.0</td>\n",
       "      <td>-50033.742041</td>\n",
       "      <td>92919.806648</td>\n",
       "    </tr>\n",
       "    <tr>\n",
       "      <th>2054-12-31</th>\n",
       "      <td>132192.926271</td>\n",
       "      <td>0.0</td>\n",
       "      <td>-46267.524195</td>\n",
       "      <td>85925.402076</td>\n",
       "    </tr>\n",
       "  </tbody>\n",
       "</table>\n",
       "</div>"
      ],
      "text/plain": [
       "                   salary  total_deductions   total_taxes  take_home_salary\n",
       "2019-12-31  118000.000000               0.0 -41300.000000      76700.000000\n",
       "2020-12-31  124162.276013               0.0 -43456.796604      80705.479408\n",
       "2021-12-31  130289.144405               0.0 -45601.200542      84687.943863\n",
       "2022-12-31  136368.469582               0.0 -47728.964354      88639.505228\n",
       "2023-12-31  142371.280183               0.0 -49829.948064      92541.332119\n",
       "2024-12-31  148284.590438               0.0 -51899.606653      96384.983784\n",
       "2025-12-31  154047.049632               0.0 -53916.467371     100130.582261\n",
       "2026-12-31  159646.000795               0.0 -55876.100278     103769.900517\n",
       "2027-12-31  165052.472564               0.0 -57768.365397     107284.107166\n",
       "2028-12-31  170251.368360               0.0 -59587.978926     110663.389434\n",
       "2029-12-31  175185.241376               0.0 -61314.834482     113870.406895\n",
       "2030-12-31  179839.641543               0.0 -62943.874540     116895.767003\n",
       "2031-12-31  184185.597498               0.0 -64464.959124     119720.638374\n",
       "2032-12-31  188204.630138               0.0 -65871.620548     122333.009590\n",
       "2033-12-31  191845.739994               0.0 -67146.008998     124699.730996\n",
       "2034-12-31  195091.412183               0.0 -68281.994264     126809.417919\n",
       "2035-12-31  197912.675344               0.0 -69269.436370     128643.238973\n",
       "2036-12-31  200286.396128               0.0 -70100.238645     130186.157483\n",
       "2037-12-31  202170.565843               0.0 -70759.698045     131410.867798\n",
       "2038-12-31  203543.333073               0.0 -71240.166576     132303.166497\n",
       "2039-12-31  204375.726458               0.0 -71531.504260     132844.222197\n",
       "2040-12-31  204638.686687               0.0 -71623.540341     133015.146347\n",
       "2041-12-31  204301.739279               0.0 -71505.608748     132796.130532\n",
       "2042-12-31  203337.424570               0.0 -71168.098599     132169.325970\n",
       "2043-12-31  201716.771197               0.0 -70600.869919     131115.901278\n",
       "2044-12-31  199403.522173               0.0 -69791.232761     129612.289413\n",
       "2045-12-31  196381.280661               0.0 -68733.448231     127647.832430\n",
       "2046-12-31  192615.707030               0.0 -67415.497461     125200.209570\n",
       "2047-12-31  188077.829919               0.0 -65827.240472     122250.589447\n",
       "2048-12-31  182722.922942               0.0 -63953.023030     118769.899912\n",
       "2049-12-31  176551.210345               0.0 -61792.923621     114758.286724\n",
       "2050-12-31  169520.200812               0.0 -59332.070284     110188.130528\n",
       "2051-12-31  161600.922980               0.0 -56560.323043     105040.599937\n",
       "2052-12-31  152738.909352               0.0 -53458.618273      99280.291079\n",
       "2053-12-31  142953.548688               0.0 -50033.742041      92919.806648\n",
       "2054-12-31  132192.926271               0.0 -46267.524195      85925.402076"
      ]
     },
     "execution_count": 94,
     "metadata": {},
     "output_type": "execute_result"
    }
   ],
   "source": [
    "pd.concat([s.paycheck_df"
   ]
  },
  {
   "cell_type": "code",
   "execution_count": null,
   "metadata": {},
   "outputs": [],
   "source": []
  },
  {
   "cell_type": "code",
   "execution_count": null,
   "metadata": {},
   "outputs": [],
   "source": []
  },
  {
   "cell_type": "code",
   "execution_count": 47,
   "metadata": {},
   "outputs": [],
   "source": []
  },
  {
   "cell_type": "code",
   "execution_count": 51,
   "metadata": {},
   "outputs": [],
   "source": [
    "def get_pctile_for_growth(x):\n",
    "    if x == 100:  # there's no \n",
    "        x -= 1\n",
    "    return np.floor(x/10)*10"
   ]
  },
  {
   "cell_type": "code",
   "execution_count": 53,
   "metadata": {},
   "outputs": [],
   "source": [
    "user = User(\n",
    "    email='placeholder',\n",
    "    birthday=pd.datetime.today() - pd.DateOffset(years=29),\n",
    "    income_percentile=get_pctile_for_growth(90)\n",
    "    )\n",
    "\n",
    "sal_grwth_points = user.get_growth_points_to_fit(\n",
    "    growth_model=KitcesIncomeGrowthModel,\n",
    "    start_dt=pd.datetime.today()\n",
    ")\n",
    "s = Salary(\n",
    "    salary, \n",
    "    payday_freq='Y', \n",
    "    growth_points_to_fit=sal_grwth_points, \n",
    "    last_paycheck_dt= pd.datetime.today() + pd.DateOffset(years=65 - age)\n",
    "    tax_rate=.35\n",
    ")"
   ]
  },
  {
   "cell_type": "code",
   "execution_count": 65,
   "metadata": {},
   "outputs": [
    {
     "data": {
      "text/plain": [
       "Timestamp('2055-12-27 12:16:58.785661')"
      ]
     },
     "execution_count": 65,
     "metadata": {},
     "output_type": "execute_result"
    }
   ],
   "source": [
    "pd.datetime.today() + pd.DateOffset(years=65 - 29)"
   ]
  },
  {
   "cell_type": "code",
   "execution_count": 60,
   "metadata": {},
   "outputs": [],
   "source": [
    "import plotly.express as px\n"
   ]
  },
  {
   "cell_type": "code",
   "execution_count": 69,
   "metadata": {
    "scrolled": true
   },
   "outputs": [
    {
     "name": "stderr",
     "output_type": "stream",
     "text": [
      "/Users/davidbrodsky/repos/gameplan/gameplan/gp_collections.py:114: UserWarning:\n",
      "\n",
      "This Collection is empty.\n",
      "\n"
     ]
    },
    {
     "data": {
      "text/html": [
       "<div>\n",
       "<style scoped>\n",
       "    .dataframe tbody tr th:only-of-type {\n",
       "        vertical-align: middle;\n",
       "    }\n",
       "\n",
       "    .dataframe tbody tr th {\n",
       "        vertical-align: top;\n",
       "    }\n",
       "\n",
       "    .dataframe thead th {\n",
       "        text-align: right;\n",
       "    }\n",
       "</style>\n",
       "<table border=\"1\" class=\"dataframe\">\n",
       "  <thead>\n",
       "    <tr style=\"text-align: right;\">\n",
       "      <th></th>\n",
       "      <th>salary</th>\n",
       "      <th>total_deductions</th>\n",
       "      <th>total_taxes</th>\n",
       "      <th>take_home_salary</th>\n",
       "    </tr>\n",
       "  </thead>\n",
       "  <tbody>\n",
       "    <tr>\n",
       "      <th>2019-12-31</th>\n",
       "      <td>180000.000000</td>\n",
       "      <td>0.0</td>\n",
       "      <td>-63000.000000</td>\n",
       "      <td>117000.000000</td>\n",
       "    </tr>\n",
       "    <tr>\n",
       "      <th>2020-12-31</th>\n",
       "      <td>193886.573605</td>\n",
       "      <td>0.0</td>\n",
       "      <td>-67860.300762</td>\n",
       "      <td>126026.272843</td>\n",
       "    </tr>\n",
       "    <tr>\n",
       "      <th>2021-12-31</th>\n",
       "      <td>207931.691236</td>\n",
       "      <td>0.0</td>\n",
       "      <td>-72776.091932</td>\n",
       "      <td>135155.599303</td>\n",
       "    </tr>\n",
       "    <tr>\n",
       "      <th>2022-12-31</th>\n",
       "      <td>222101.400730</td>\n",
       "      <td>0.0</td>\n",
       "      <td>-77735.490255</td>\n",
       "      <td>144365.910474</td>\n",
       "    </tr>\n",
       "    <tr>\n",
       "      <th>2023-12-31</th>\n",
       "      <td>236324.142608</td>\n",
       "      <td>0.0</td>\n",
       "      <td>-82713.449913</td>\n",
       "      <td>153610.692695</td>\n",
       "    </tr>\n",
       "    <tr>\n",
       "      <th>2024-12-31</th>\n",
       "      <td>250567.181978</td>\n",
       "      <td>0.0</td>\n",
       "      <td>-87698.513692</td>\n",
       "      <td>162868.668286</td>\n",
       "    </tr>\n",
       "    <tr>\n",
       "      <th>2025-12-31</th>\n",
       "      <td>264680.965077</td>\n",
       "      <td>0.0</td>\n",
       "      <td>-92638.337777</td>\n",
       "      <td>172042.627300</td>\n",
       "    </tr>\n",
       "    <tr>\n",
       "      <th>2026-12-31</th>\n",
       "      <td>278632.906069</td>\n",
       "      <td>0.0</td>\n",
       "      <td>-97521.517124</td>\n",
       "      <td>181111.388945</td>\n",
       "    </tr>\n",
       "    <tr>\n",
       "      <th>2027-12-31</th>\n",
       "      <td>292351.445473</td>\n",
       "      <td>0.0</td>\n",
       "      <td>-102323.005916</td>\n",
       "      <td>190028.439557</td>\n",
       "    </tr>\n",
       "    <tr>\n",
       "      <th>2028-12-31</th>\n",
       "      <td>305801.288820</td>\n",
       "      <td>0.0</td>\n",
       "      <td>-107030.451087</td>\n",
       "      <td>198770.837733</td>\n",
       "    </tr>\n",
       "    <tr>\n",
       "      <th>2029-12-31</th>\n",
       "      <td>318837.216752</td>\n",
       "      <td>0.0</td>\n",
       "      <td>-111593.025863</td>\n",
       "      <td>207244.190889</td>\n",
       "    </tr>\n",
       "    <tr>\n",
       "      <th>2030-12-31</th>\n",
       "      <td>331424.868605</td>\n",
       "      <td>0.0</td>\n",
       "      <td>-115998.704012</td>\n",
       "      <td>215426.164593</td>\n",
       "    </tr>\n",
       "    <tr>\n",
       "      <th>2031-12-31</th>\n",
       "      <td>343492.684899</td>\n",
       "      <td>0.0</td>\n",
       "      <td>-120222.439715</td>\n",
       "      <td>223270.245184</td>\n",
       "    </tr>\n",
       "    <tr>\n",
       "      <th>2032-12-31</th>\n",
       "      <td>354999.670435</td>\n",
       "      <td>0.0</td>\n",
       "      <td>-124249.884652</td>\n",
       "      <td>230749.785783</td>\n",
       "    </tr>\n",
       "    <tr>\n",
       "      <th>2033-12-31</th>\n",
       "      <td>365811.222564</td>\n",
       "      <td>0.0</td>\n",
       "      <td>-128033.927897</td>\n",
       "      <td>237777.294666</td>\n",
       "    </tr>\n",
       "    <tr>\n",
       "      <th>2034-12-31</th>\n",
       "      <td>375888.064642</td>\n",
       "      <td>0.0</td>\n",
       "      <td>-131560.822625</td>\n",
       "      <td>244327.242017</td>\n",
       "    </tr>\n",
       "    <tr>\n",
       "      <th>2035-12-31</th>\n",
       "      <td>385158.637190</td>\n",
       "      <td>0.0</td>\n",
       "      <td>-134805.523016</td>\n",
       "      <td>250353.114173</td>\n",
       "    </tr>\n",
       "    <tr>\n",
       "      <th>2036-12-31</th>\n",
       "      <td>393573.103126</td>\n",
       "      <td>0.0</td>\n",
       "      <td>-137750.586094</td>\n",
       "      <td>255822.517032</td>\n",
       "    </tr>\n",
       "    <tr>\n",
       "      <th>2037-12-31</th>\n",
       "      <td>401013.758815</td>\n",
       "      <td>0.0</td>\n",
       "      <td>-140354.815585</td>\n",
       "      <td>260658.943230</td>\n",
       "    </tr>\n",
       "    <tr>\n",
       "      <th>2038-12-31</th>\n",
       "      <td>407433.270482</td>\n",
       "      <td>0.0</td>\n",
       "      <td>-142601.644669</td>\n",
       "      <td>264831.625814</td>\n",
       "    </tr>\n",
       "    <tr>\n",
       "      <th>2039-12-31</th>\n",
       "      <td>412760.078648</td>\n",
       "      <td>0.0</td>\n",
       "      <td>-144466.027527</td>\n",
       "      <td>268294.051121</td>\n",
       "    </tr>\n",
       "    <tr>\n",
       "      <th>2040-12-31</th>\n",
       "      <td>416932.363196</td>\n",
       "      <td>0.0</td>\n",
       "      <td>-145926.327119</td>\n",
       "      <td>271006.036077</td>\n",
       "    </tr>\n",
       "    <tr>\n",
       "      <th>2041-12-31</th>\n",
       "      <td>419855.601810</td>\n",
       "      <td>0.0</td>\n",
       "      <td>-146949.460633</td>\n",
       "      <td>272906.141176</td>\n",
       "    </tr>\n",
       "    <tr>\n",
       "      <th>2042-12-31</th>\n",
       "      <td>421471.262431</td>\n",
       "      <td>0.0</td>\n",
       "      <td>-147514.941851</td>\n",
       "      <td>273956.320580</td>\n",
       "    </tr>\n",
       "    <tr>\n",
       "      <th>2043-12-31</th>\n",
       "      <td>421707.785578</td>\n",
       "      <td>0.0</td>\n",
       "      <td>-147597.724952</td>\n",
       "      <td>274110.060626</td>\n",
       "    </tr>\n",
       "    <tr>\n",
       "      <th>2044-12-31</th>\n",
       "      <td>420488.226949</td>\n",
       "      <td>0.0</td>\n",
       "      <td>-147170.879432</td>\n",
       "      <td>273317.347517</td>\n",
       "    </tr>\n",
       "    <tr>\n",
       "      <th>2045-12-31</th>\n",
       "      <td>417747.527852</td>\n",
       "      <td>0.0</td>\n",
       "      <td>-146211.634748</td>\n",
       "      <td>271535.893104</td>\n",
       "    </tr>\n",
       "    <tr>\n",
       "      <th>2046-12-31</th>\n",
       "      <td>413412.816790</td>\n",
       "      <td>0.0</td>\n",
       "      <td>-144694.485876</td>\n",
       "      <td>268718.330913</td>\n",
       "    </tr>\n",
       "    <tr>\n",
       "      <th>2047-12-31</th>\n",
       "      <td>407412.534283</td>\n",
       "      <td>0.0</td>\n",
       "      <td>-142594.386999</td>\n",
       "      <td>264818.147284</td>\n",
       "    </tr>\n",
       "    <tr>\n",
       "      <th>2048-12-31</th>\n",
       "      <td>399651.470689</td>\n",
       "      <td>0.0</td>\n",
       "      <td>-139878.014741</td>\n",
       "      <td>259773.455948</td>\n",
       "    </tr>\n",
       "    <tr>\n",
       "      <th>2049-12-31</th>\n",
       "      <td>390100.313245</td>\n",
       "      <td>0.0</td>\n",
       "      <td>-136535.109636</td>\n",
       "      <td>253565.203609</td>\n",
       "    </tr>\n",
       "    <tr>\n",
       "      <th>2050-12-31</th>\n",
       "      <td>378668.709864</td>\n",
       "      <td>0.0</td>\n",
       "      <td>-132534.048452</td>\n",
       "      <td>246134.661411</td>\n",
       "    </tr>\n",
       "    <tr>\n",
       "      <th>2051-12-31</th>\n",
       "      <td>365285.101067</td>\n",
       "      <td>0.0</td>\n",
       "      <td>-127849.785373</td>\n",
       "      <td>237435.315694</td>\n",
       "    </tr>\n",
       "    <tr>\n",
       "      <th>2052-12-31</th>\n",
       "      <td>349832.870720</td>\n",
       "      <td>0.0</td>\n",
       "      <td>-122441.504752</td>\n",
       "      <td>227391.365968</td>\n",
       "    </tr>\n",
       "    <tr>\n",
       "      <th>2053-12-31</th>\n",
       "      <td>332324.734291</td>\n",
       "      <td>0.0</td>\n",
       "      <td>-116313.657002</td>\n",
       "      <td>216011.077289</td>\n",
       "    </tr>\n",
       "    <tr>\n",
       "      <th>2054-12-31</th>\n",
       "      <td>312649.717956</td>\n",
       "      <td>0.0</td>\n",
       "      <td>-109427.401284</td>\n",
       "      <td>203222.316671</td>\n",
       "    </tr>\n",
       "  </tbody>\n",
       "</table>\n",
       "</div>"
      ],
      "text/plain": [
       "                   salary  total_deductions    total_taxes  take_home_salary\n",
       "2019-12-31  180000.000000               0.0  -63000.000000     117000.000000\n",
       "2020-12-31  193886.573605               0.0  -67860.300762     126026.272843\n",
       "2021-12-31  207931.691236               0.0  -72776.091932     135155.599303\n",
       "2022-12-31  222101.400730               0.0  -77735.490255     144365.910474\n",
       "2023-12-31  236324.142608               0.0  -82713.449913     153610.692695\n",
       "2024-12-31  250567.181978               0.0  -87698.513692     162868.668286\n",
       "2025-12-31  264680.965077               0.0  -92638.337777     172042.627300\n",
       "2026-12-31  278632.906069               0.0  -97521.517124     181111.388945\n",
       "2027-12-31  292351.445473               0.0 -102323.005916     190028.439557\n",
       "2028-12-31  305801.288820               0.0 -107030.451087     198770.837733\n",
       "2029-12-31  318837.216752               0.0 -111593.025863     207244.190889\n",
       "2030-12-31  331424.868605               0.0 -115998.704012     215426.164593\n",
       "2031-12-31  343492.684899               0.0 -120222.439715     223270.245184\n",
       "2032-12-31  354999.670435               0.0 -124249.884652     230749.785783\n",
       "2033-12-31  365811.222564               0.0 -128033.927897     237777.294666\n",
       "2034-12-31  375888.064642               0.0 -131560.822625     244327.242017\n",
       "2035-12-31  385158.637190               0.0 -134805.523016     250353.114173\n",
       "2036-12-31  393573.103126               0.0 -137750.586094     255822.517032\n",
       "2037-12-31  401013.758815               0.0 -140354.815585     260658.943230\n",
       "2038-12-31  407433.270482               0.0 -142601.644669     264831.625814\n",
       "2039-12-31  412760.078648               0.0 -144466.027527     268294.051121\n",
       "2040-12-31  416932.363196               0.0 -145926.327119     271006.036077\n",
       "2041-12-31  419855.601810               0.0 -146949.460633     272906.141176\n",
       "2042-12-31  421471.262431               0.0 -147514.941851     273956.320580\n",
       "2043-12-31  421707.785578               0.0 -147597.724952     274110.060626\n",
       "2044-12-31  420488.226949               0.0 -147170.879432     273317.347517\n",
       "2045-12-31  417747.527852               0.0 -146211.634748     271535.893104\n",
       "2046-12-31  413412.816790               0.0 -144694.485876     268718.330913\n",
       "2047-12-31  407412.534283               0.0 -142594.386999     264818.147284\n",
       "2048-12-31  399651.470689               0.0 -139878.014741     259773.455948\n",
       "2049-12-31  390100.313245               0.0 -136535.109636     253565.203609\n",
       "2050-12-31  378668.709864               0.0 -132534.048452     246134.661411\n",
       "2051-12-31  365285.101067               0.0 -127849.785373     237435.315694\n",
       "2052-12-31  349832.870720               0.0 -122441.504752     227391.365968\n",
       "2053-12-31  332324.734291               0.0 -116313.657002     216011.077289\n",
       "2054-12-31  312649.717956               0.0 -109427.401284     203222.316671"
      ]
     },
     "execution_count": 69,
     "metadata": {},
     "output_type": "execute_result"
    }
   ],
   "source": [
    "s.paycheck_df"
   ]
  },
  {
   "cell_type": "code",
   "execution_count": 72,
   "metadata": {
    "scrolled": false
   },
   "outputs": [
    {
     "data": {
      "application/vnd.plotly.v1+json": {
       "config": {
        "plotlyServerURL": "https://plot.ly"
       },
       "data": [
        {
         "hoverlabel": {
          "namelength": 0
         },
         "hovertemplate": "index=%{x}<br>take_home_salary=%{y}",
         "legendgroup": "",
         "marker": {
          "color": "#636efa",
          "symbol": "circle"
         },
         "mode": "markers",
         "name": "",
         "showlegend": false,
         "type": "scatter",
         "x": [
          "2019-12-31T00:00:00",
          "2020-12-31T00:00:00",
          "2021-12-31T00:00:00",
          "2022-12-31T00:00:00",
          "2023-12-31T00:00:00",
          "2024-12-31T00:00:00",
          "2025-12-31T00:00:00",
          "2026-12-31T00:00:00",
          "2027-12-31T00:00:00",
          "2028-12-31T00:00:00",
          "2029-12-31T00:00:00",
          "2030-12-31T00:00:00",
          "2031-12-31T00:00:00",
          "2032-12-31T00:00:00",
          "2033-12-31T00:00:00",
          "2034-12-31T00:00:00",
          "2035-12-31T00:00:00",
          "2036-12-31T00:00:00",
          "2037-12-31T00:00:00",
          "2038-12-31T00:00:00",
          "2039-12-31T00:00:00",
          "2040-12-31T00:00:00",
          "2041-12-31T00:00:00",
          "2042-12-31T00:00:00",
          "2043-12-31T00:00:00",
          "2044-12-31T00:00:00",
          "2045-12-31T00:00:00",
          "2046-12-31T00:00:00",
          "2047-12-31T00:00:00",
          "2048-12-31T00:00:00",
          "2049-12-31T00:00:00",
          "2050-12-31T00:00:00",
          "2051-12-31T00:00:00",
          "2052-12-31T00:00:00",
          "2053-12-31T00:00:00",
          "2054-12-31T00:00:00"
         ],
         "xaxis": "x",
         "y": [
          117000,
          126026.27284310758,
          135155.5993031325,
          144365.91047433703,
          153610.69269504893,
          162868.6682857231,
          172042.62730037325,
          181111.38894482487,
          190028.43955740586,
          198770.83773316236,
          207244.19088903128,
          215426.1645933236,
          223270.2451843673,
          230749.785782722,
          237777.29466640326,
          244327.24201712996,
          250353.1141732299,
          255822.51703169852,
          260658.94322978568,
          264831.6258135403,
          268294.0511212901,
          271006.03607738833,
          272906.1411764752,
          273956.3205798513,
          274110.0606258446,
          273317.34751708846,
          271535.89310376847,
          268718.33091335965,
          264818.14728419005,
          259773.45594809522,
          253565.20360896195,
          246134.66141136194,
          237435.31569362298,
          227391.3659677051,
          216011.07728935225,
          203222.31667115452
         ],
         "yaxis": "y"
        }
       ],
       "layout": {
        "legend": {
         "tracegroupgap": 0
        },
        "margin": {
         "t": 60
        },
        "template": {
         "data": {
          "bar": [
           {
            "error_x": {
             "color": "#2a3f5f"
            },
            "error_y": {
             "color": "#2a3f5f"
            },
            "marker": {
             "line": {
              "color": "#E5ECF6",
              "width": 0.5
             }
            },
            "type": "bar"
           }
          ],
          "barpolar": [
           {
            "marker": {
             "line": {
              "color": "#E5ECF6",
              "width": 0.5
             }
            },
            "type": "barpolar"
           }
          ],
          "carpet": [
           {
            "aaxis": {
             "endlinecolor": "#2a3f5f",
             "gridcolor": "white",
             "linecolor": "white",
             "minorgridcolor": "white",
             "startlinecolor": "#2a3f5f"
            },
            "baxis": {
             "endlinecolor": "#2a3f5f",
             "gridcolor": "white",
             "linecolor": "white",
             "minorgridcolor": "white",
             "startlinecolor": "#2a3f5f"
            },
            "type": "carpet"
           }
          ],
          "choropleth": [
           {
            "colorbar": {
             "outlinewidth": 0,
             "ticks": ""
            },
            "type": "choropleth"
           }
          ],
          "contour": [
           {
            "colorbar": {
             "outlinewidth": 0,
             "ticks": ""
            },
            "colorscale": [
             [
              0,
              "#0d0887"
             ],
             [
              0.1111111111111111,
              "#46039f"
             ],
             [
              0.2222222222222222,
              "#7201a8"
             ],
             [
              0.3333333333333333,
              "#9c179e"
             ],
             [
              0.4444444444444444,
              "#bd3786"
             ],
             [
              0.5555555555555556,
              "#d8576b"
             ],
             [
              0.6666666666666666,
              "#ed7953"
             ],
             [
              0.7777777777777778,
              "#fb9f3a"
             ],
             [
              0.8888888888888888,
              "#fdca26"
             ],
             [
              1,
              "#f0f921"
             ]
            ],
            "type": "contour"
           }
          ],
          "contourcarpet": [
           {
            "colorbar": {
             "outlinewidth": 0,
             "ticks": ""
            },
            "type": "contourcarpet"
           }
          ],
          "heatmap": [
           {
            "colorbar": {
             "outlinewidth": 0,
             "ticks": ""
            },
            "colorscale": [
             [
              0,
              "#0d0887"
             ],
             [
              0.1111111111111111,
              "#46039f"
             ],
             [
              0.2222222222222222,
              "#7201a8"
             ],
             [
              0.3333333333333333,
              "#9c179e"
             ],
             [
              0.4444444444444444,
              "#bd3786"
             ],
             [
              0.5555555555555556,
              "#d8576b"
             ],
             [
              0.6666666666666666,
              "#ed7953"
             ],
             [
              0.7777777777777778,
              "#fb9f3a"
             ],
             [
              0.8888888888888888,
              "#fdca26"
             ],
             [
              1,
              "#f0f921"
             ]
            ],
            "type": "heatmap"
           }
          ],
          "heatmapgl": [
           {
            "colorbar": {
             "outlinewidth": 0,
             "ticks": ""
            },
            "colorscale": [
             [
              0,
              "#0d0887"
             ],
             [
              0.1111111111111111,
              "#46039f"
             ],
             [
              0.2222222222222222,
              "#7201a8"
             ],
             [
              0.3333333333333333,
              "#9c179e"
             ],
             [
              0.4444444444444444,
              "#bd3786"
             ],
             [
              0.5555555555555556,
              "#d8576b"
             ],
             [
              0.6666666666666666,
              "#ed7953"
             ],
             [
              0.7777777777777778,
              "#fb9f3a"
             ],
             [
              0.8888888888888888,
              "#fdca26"
             ],
             [
              1,
              "#f0f921"
             ]
            ],
            "type": "heatmapgl"
           }
          ],
          "histogram": [
           {
            "marker": {
             "colorbar": {
              "outlinewidth": 0,
              "ticks": ""
             }
            },
            "type": "histogram"
           }
          ],
          "histogram2d": [
           {
            "colorbar": {
             "outlinewidth": 0,
             "ticks": ""
            },
            "colorscale": [
             [
              0,
              "#0d0887"
             ],
             [
              0.1111111111111111,
              "#46039f"
             ],
             [
              0.2222222222222222,
              "#7201a8"
             ],
             [
              0.3333333333333333,
              "#9c179e"
             ],
             [
              0.4444444444444444,
              "#bd3786"
             ],
             [
              0.5555555555555556,
              "#d8576b"
             ],
             [
              0.6666666666666666,
              "#ed7953"
             ],
             [
              0.7777777777777778,
              "#fb9f3a"
             ],
             [
              0.8888888888888888,
              "#fdca26"
             ],
             [
              1,
              "#f0f921"
             ]
            ],
            "type": "histogram2d"
           }
          ],
          "histogram2dcontour": [
           {
            "colorbar": {
             "outlinewidth": 0,
             "ticks": ""
            },
            "colorscale": [
             [
              0,
              "#0d0887"
             ],
             [
              0.1111111111111111,
              "#46039f"
             ],
             [
              0.2222222222222222,
              "#7201a8"
             ],
             [
              0.3333333333333333,
              "#9c179e"
             ],
             [
              0.4444444444444444,
              "#bd3786"
             ],
             [
              0.5555555555555556,
              "#d8576b"
             ],
             [
              0.6666666666666666,
              "#ed7953"
             ],
             [
              0.7777777777777778,
              "#fb9f3a"
             ],
             [
              0.8888888888888888,
              "#fdca26"
             ],
             [
              1,
              "#f0f921"
             ]
            ],
            "type": "histogram2dcontour"
           }
          ],
          "mesh3d": [
           {
            "colorbar": {
             "outlinewidth": 0,
             "ticks": ""
            },
            "type": "mesh3d"
           }
          ],
          "parcoords": [
           {
            "line": {
             "colorbar": {
              "outlinewidth": 0,
              "ticks": ""
             }
            },
            "type": "parcoords"
           }
          ],
          "pie": [
           {
            "automargin": true,
            "type": "pie"
           }
          ],
          "scatter": [
           {
            "marker": {
             "colorbar": {
              "outlinewidth": 0,
              "ticks": ""
             }
            },
            "type": "scatter"
           }
          ],
          "scatter3d": [
           {
            "line": {
             "colorbar": {
              "outlinewidth": 0,
              "ticks": ""
             }
            },
            "marker": {
             "colorbar": {
              "outlinewidth": 0,
              "ticks": ""
             }
            },
            "type": "scatter3d"
           }
          ],
          "scattercarpet": [
           {
            "marker": {
             "colorbar": {
              "outlinewidth": 0,
              "ticks": ""
             }
            },
            "type": "scattercarpet"
           }
          ],
          "scattergeo": [
           {
            "marker": {
             "colorbar": {
              "outlinewidth": 0,
              "ticks": ""
             }
            },
            "type": "scattergeo"
           }
          ],
          "scattergl": [
           {
            "marker": {
             "colorbar": {
              "outlinewidth": 0,
              "ticks": ""
             }
            },
            "type": "scattergl"
           }
          ],
          "scattermapbox": [
           {
            "marker": {
             "colorbar": {
              "outlinewidth": 0,
              "ticks": ""
             }
            },
            "type": "scattermapbox"
           }
          ],
          "scatterpolar": [
           {
            "marker": {
             "colorbar": {
              "outlinewidth": 0,
              "ticks": ""
             }
            },
            "type": "scatterpolar"
           }
          ],
          "scatterpolargl": [
           {
            "marker": {
             "colorbar": {
              "outlinewidth": 0,
              "ticks": ""
             }
            },
            "type": "scatterpolargl"
           }
          ],
          "scatterternary": [
           {
            "marker": {
             "colorbar": {
              "outlinewidth": 0,
              "ticks": ""
             }
            },
            "type": "scatterternary"
           }
          ],
          "surface": [
           {
            "colorbar": {
             "outlinewidth": 0,
             "ticks": ""
            },
            "colorscale": [
             [
              0,
              "#0d0887"
             ],
             [
              0.1111111111111111,
              "#46039f"
             ],
             [
              0.2222222222222222,
              "#7201a8"
             ],
             [
              0.3333333333333333,
              "#9c179e"
             ],
             [
              0.4444444444444444,
              "#bd3786"
             ],
             [
              0.5555555555555556,
              "#d8576b"
             ],
             [
              0.6666666666666666,
              "#ed7953"
             ],
             [
              0.7777777777777778,
              "#fb9f3a"
             ],
             [
              0.8888888888888888,
              "#fdca26"
             ],
             [
              1,
              "#f0f921"
             ]
            ],
            "type": "surface"
           }
          ],
          "table": [
           {
            "cells": {
             "fill": {
              "color": "#EBF0F8"
             },
             "line": {
              "color": "white"
             }
            },
            "header": {
             "fill": {
              "color": "#C8D4E3"
             },
             "line": {
              "color": "white"
             }
            },
            "type": "table"
           }
          ]
         },
         "layout": {
          "annotationdefaults": {
           "arrowcolor": "#2a3f5f",
           "arrowhead": 0,
           "arrowwidth": 1
          },
          "coloraxis": {
           "colorbar": {
            "outlinewidth": 0,
            "ticks": ""
           }
          },
          "colorscale": {
           "diverging": [
            [
             0,
             "#8e0152"
            ],
            [
             0.1,
             "#c51b7d"
            ],
            [
             0.2,
             "#de77ae"
            ],
            [
             0.3,
             "#f1b6da"
            ],
            [
             0.4,
             "#fde0ef"
            ],
            [
             0.5,
             "#f7f7f7"
            ],
            [
             0.6,
             "#e6f5d0"
            ],
            [
             0.7,
             "#b8e186"
            ],
            [
             0.8,
             "#7fbc41"
            ],
            [
             0.9,
             "#4d9221"
            ],
            [
             1,
             "#276419"
            ]
           ],
           "sequential": [
            [
             0,
             "#0d0887"
            ],
            [
             0.1111111111111111,
             "#46039f"
            ],
            [
             0.2222222222222222,
             "#7201a8"
            ],
            [
             0.3333333333333333,
             "#9c179e"
            ],
            [
             0.4444444444444444,
             "#bd3786"
            ],
            [
             0.5555555555555556,
             "#d8576b"
            ],
            [
             0.6666666666666666,
             "#ed7953"
            ],
            [
             0.7777777777777778,
             "#fb9f3a"
            ],
            [
             0.8888888888888888,
             "#fdca26"
            ],
            [
             1,
             "#f0f921"
            ]
           ],
           "sequentialminus": [
            [
             0,
             "#0d0887"
            ],
            [
             0.1111111111111111,
             "#46039f"
            ],
            [
             0.2222222222222222,
             "#7201a8"
            ],
            [
             0.3333333333333333,
             "#9c179e"
            ],
            [
             0.4444444444444444,
             "#bd3786"
            ],
            [
             0.5555555555555556,
             "#d8576b"
            ],
            [
             0.6666666666666666,
             "#ed7953"
            ],
            [
             0.7777777777777778,
             "#fb9f3a"
            ],
            [
             0.8888888888888888,
             "#fdca26"
            ],
            [
             1,
             "#f0f921"
            ]
           ]
          },
          "colorway": [
           "#636efa",
           "#EF553B",
           "#00cc96",
           "#ab63fa",
           "#FFA15A",
           "#19d3f3",
           "#FF6692",
           "#B6E880",
           "#FF97FF",
           "#FECB52"
          ],
          "font": {
           "color": "#2a3f5f"
          },
          "geo": {
           "bgcolor": "white",
           "lakecolor": "white",
           "landcolor": "#E5ECF6",
           "showlakes": true,
           "showland": true,
           "subunitcolor": "white"
          },
          "hoverlabel": {
           "align": "left"
          },
          "hovermode": "closest",
          "mapbox": {
           "style": "light"
          },
          "paper_bgcolor": "white",
          "plot_bgcolor": "#E5ECF6",
          "polar": {
           "angularaxis": {
            "gridcolor": "white",
            "linecolor": "white",
            "ticks": ""
           },
           "bgcolor": "#E5ECF6",
           "radialaxis": {
            "gridcolor": "white",
            "linecolor": "white",
            "ticks": ""
           }
          },
          "scene": {
           "xaxis": {
            "backgroundcolor": "#E5ECF6",
            "gridcolor": "white",
            "gridwidth": 2,
            "linecolor": "white",
            "showbackground": true,
            "ticks": "",
            "zerolinecolor": "white"
           },
           "yaxis": {
            "backgroundcolor": "#E5ECF6",
            "gridcolor": "white",
            "gridwidth": 2,
            "linecolor": "white",
            "showbackground": true,
            "ticks": "",
            "zerolinecolor": "white"
           },
           "zaxis": {
            "backgroundcolor": "#E5ECF6",
            "gridcolor": "white",
            "gridwidth": 2,
            "linecolor": "white",
            "showbackground": true,
            "ticks": "",
            "zerolinecolor": "white"
           }
          },
          "shapedefaults": {
           "line": {
            "color": "#2a3f5f"
           }
          },
          "ternary": {
           "aaxis": {
            "gridcolor": "white",
            "linecolor": "white",
            "ticks": ""
           },
           "baxis": {
            "gridcolor": "white",
            "linecolor": "white",
            "ticks": ""
           },
           "bgcolor": "#E5ECF6",
           "caxis": {
            "gridcolor": "white",
            "linecolor": "white",
            "ticks": ""
           }
          },
          "title": {
           "x": 0.05
          },
          "xaxis": {
           "automargin": true,
           "gridcolor": "white",
           "linecolor": "white",
           "ticks": "",
           "title": {
            "standoff": 15
           },
           "zerolinecolor": "white",
           "zerolinewidth": 2
          },
          "yaxis": {
           "automargin": true,
           "gridcolor": "white",
           "linecolor": "white",
           "ticks": "",
           "title": {
            "standoff": 15
           },
           "zerolinecolor": "white",
           "zerolinewidth": 2
          }
         }
        },
        "xaxis": {
         "anchor": "y",
         "domain": [
          0,
          1
         ],
         "title": {
          "text": "index"
         }
        },
        "yaxis": {
         "anchor": "x",
         "domain": [
          0,
          1
         ],
         "title": {
          "text": "take_home_salary"
         }
        }
       }
      },
      "text/html": [
       "<div>\n",
       "        \n",
       "        \n",
       "            <div id=\"44385561-bc0f-407b-b2cc-cb845051e13a\" class=\"plotly-graph-div\" style=\"height:525px; width:100%;\"></div>\n",
       "            <script type=\"text/javascript\">\n",
       "                require([\"plotly\"], function(Plotly) {\n",
       "                    window.PLOTLYENV=window.PLOTLYENV || {};\n",
       "                    \n",
       "                if (document.getElementById(\"44385561-bc0f-407b-b2cc-cb845051e13a\")) {\n",
       "                    Plotly.newPlot(\n",
       "                        '44385561-bc0f-407b-b2cc-cb845051e13a',\n",
       "                        [{\"hoverlabel\": {\"namelength\": 0}, \"hovertemplate\": \"index=%{x}<br>take_home_salary=%{y}\", \"legendgroup\": \"\", \"marker\": {\"color\": \"#636efa\", \"symbol\": \"circle\"}, \"mode\": \"markers\", \"name\": \"\", \"showlegend\": false, \"type\": \"scatter\", \"x\": [\"2019-12-31T00:00:00\", \"2020-12-31T00:00:00\", \"2021-12-31T00:00:00\", \"2022-12-31T00:00:00\", \"2023-12-31T00:00:00\", \"2024-12-31T00:00:00\", \"2025-12-31T00:00:00\", \"2026-12-31T00:00:00\", \"2027-12-31T00:00:00\", \"2028-12-31T00:00:00\", \"2029-12-31T00:00:00\", \"2030-12-31T00:00:00\", \"2031-12-31T00:00:00\", \"2032-12-31T00:00:00\", \"2033-12-31T00:00:00\", \"2034-12-31T00:00:00\", \"2035-12-31T00:00:00\", \"2036-12-31T00:00:00\", \"2037-12-31T00:00:00\", \"2038-12-31T00:00:00\", \"2039-12-31T00:00:00\", \"2040-12-31T00:00:00\", \"2041-12-31T00:00:00\", \"2042-12-31T00:00:00\", \"2043-12-31T00:00:00\", \"2044-12-31T00:00:00\", \"2045-12-31T00:00:00\", \"2046-12-31T00:00:00\", \"2047-12-31T00:00:00\", \"2048-12-31T00:00:00\", \"2049-12-31T00:00:00\", \"2050-12-31T00:00:00\", \"2051-12-31T00:00:00\", \"2052-12-31T00:00:00\", \"2053-12-31T00:00:00\", \"2054-12-31T00:00:00\"], \"xaxis\": \"x\", \"y\": [117000.0, 126026.27284310758, 135155.5993031325, 144365.91047433703, 153610.69269504893, 162868.6682857231, 172042.62730037325, 181111.38894482487, 190028.43955740586, 198770.83773316236, 207244.19088903128, 215426.1645933236, 223270.2451843673, 230749.785782722, 237777.29466640326, 244327.24201712996, 250353.1141732299, 255822.51703169852, 260658.94322978568, 264831.6258135403, 268294.0511212901, 271006.03607738833, 272906.1411764752, 273956.3205798513, 274110.0606258446, 273317.34751708846, 271535.89310376847, 268718.33091335965, 264818.14728419005, 259773.45594809522, 253565.20360896195, 246134.66141136194, 237435.31569362298, 227391.3659677051, 216011.07728935225, 203222.31667115452], \"yaxis\": \"y\"}],\n",
       "                        {\"legend\": {\"tracegroupgap\": 0}, \"margin\": {\"t\": 60}, \"template\": {\"data\": {\"bar\": [{\"error_x\": {\"color\": \"#2a3f5f\"}, \"error_y\": {\"color\": \"#2a3f5f\"}, \"marker\": {\"line\": {\"color\": \"#E5ECF6\", \"width\": 0.5}}, \"type\": \"bar\"}], \"barpolar\": [{\"marker\": {\"line\": {\"color\": \"#E5ECF6\", \"width\": 0.5}}, \"type\": \"barpolar\"}], \"carpet\": [{\"aaxis\": {\"endlinecolor\": \"#2a3f5f\", \"gridcolor\": \"white\", \"linecolor\": \"white\", \"minorgridcolor\": \"white\", \"startlinecolor\": \"#2a3f5f\"}, \"baxis\": {\"endlinecolor\": \"#2a3f5f\", \"gridcolor\": \"white\", \"linecolor\": \"white\", \"minorgridcolor\": \"white\", \"startlinecolor\": \"#2a3f5f\"}, \"type\": \"carpet\"}], \"choropleth\": [{\"colorbar\": {\"outlinewidth\": 0, \"ticks\": \"\"}, \"type\": \"choropleth\"}], \"contour\": [{\"colorbar\": {\"outlinewidth\": 0, \"ticks\": \"\"}, \"colorscale\": [[0.0, \"#0d0887\"], [0.1111111111111111, \"#46039f\"], [0.2222222222222222, \"#7201a8\"], [0.3333333333333333, \"#9c179e\"], [0.4444444444444444, \"#bd3786\"], [0.5555555555555556, \"#d8576b\"], [0.6666666666666666, \"#ed7953\"], [0.7777777777777778, \"#fb9f3a\"], [0.8888888888888888, \"#fdca26\"], [1.0, \"#f0f921\"]], \"type\": \"contour\"}], \"contourcarpet\": [{\"colorbar\": {\"outlinewidth\": 0, \"ticks\": \"\"}, \"type\": \"contourcarpet\"}], \"heatmap\": [{\"colorbar\": {\"outlinewidth\": 0, \"ticks\": \"\"}, \"colorscale\": [[0.0, \"#0d0887\"], [0.1111111111111111, \"#46039f\"], [0.2222222222222222, \"#7201a8\"], [0.3333333333333333, \"#9c179e\"], [0.4444444444444444, \"#bd3786\"], [0.5555555555555556, \"#d8576b\"], [0.6666666666666666, \"#ed7953\"], [0.7777777777777778, \"#fb9f3a\"], [0.8888888888888888, \"#fdca26\"], [1.0, \"#f0f921\"]], \"type\": \"heatmap\"}], \"heatmapgl\": [{\"colorbar\": {\"outlinewidth\": 0, \"ticks\": \"\"}, \"colorscale\": [[0.0, \"#0d0887\"], [0.1111111111111111, \"#46039f\"], [0.2222222222222222, \"#7201a8\"], [0.3333333333333333, \"#9c179e\"], [0.4444444444444444, \"#bd3786\"], [0.5555555555555556, \"#d8576b\"], [0.6666666666666666, \"#ed7953\"], [0.7777777777777778, \"#fb9f3a\"], [0.8888888888888888, \"#fdca26\"], [1.0, \"#f0f921\"]], \"type\": \"heatmapgl\"}], \"histogram\": [{\"marker\": {\"colorbar\": {\"outlinewidth\": 0, \"ticks\": \"\"}}, \"type\": \"histogram\"}], \"histogram2d\": [{\"colorbar\": {\"outlinewidth\": 0, \"ticks\": \"\"}, \"colorscale\": [[0.0, \"#0d0887\"], [0.1111111111111111, \"#46039f\"], [0.2222222222222222, \"#7201a8\"], [0.3333333333333333, \"#9c179e\"], [0.4444444444444444, \"#bd3786\"], [0.5555555555555556, \"#d8576b\"], [0.6666666666666666, \"#ed7953\"], [0.7777777777777778, \"#fb9f3a\"], [0.8888888888888888, \"#fdca26\"], [1.0, \"#f0f921\"]], \"type\": \"histogram2d\"}], \"histogram2dcontour\": [{\"colorbar\": {\"outlinewidth\": 0, \"ticks\": \"\"}, \"colorscale\": [[0.0, \"#0d0887\"], [0.1111111111111111, \"#46039f\"], [0.2222222222222222, \"#7201a8\"], [0.3333333333333333, \"#9c179e\"], [0.4444444444444444, \"#bd3786\"], [0.5555555555555556, \"#d8576b\"], [0.6666666666666666, \"#ed7953\"], [0.7777777777777778, \"#fb9f3a\"], [0.8888888888888888, \"#fdca26\"], [1.0, \"#f0f921\"]], \"type\": \"histogram2dcontour\"}], \"mesh3d\": [{\"colorbar\": {\"outlinewidth\": 0, \"ticks\": \"\"}, \"type\": \"mesh3d\"}], \"parcoords\": [{\"line\": {\"colorbar\": {\"outlinewidth\": 0, \"ticks\": \"\"}}, \"type\": \"parcoords\"}], \"pie\": [{\"automargin\": true, \"type\": \"pie\"}], \"scatter\": [{\"marker\": {\"colorbar\": {\"outlinewidth\": 0, \"ticks\": \"\"}}, \"type\": \"scatter\"}], \"scatter3d\": [{\"line\": {\"colorbar\": {\"outlinewidth\": 0, \"ticks\": \"\"}}, \"marker\": {\"colorbar\": {\"outlinewidth\": 0, \"ticks\": \"\"}}, \"type\": \"scatter3d\"}], \"scattercarpet\": [{\"marker\": {\"colorbar\": {\"outlinewidth\": 0, \"ticks\": \"\"}}, \"type\": \"scattercarpet\"}], \"scattergeo\": [{\"marker\": {\"colorbar\": {\"outlinewidth\": 0, \"ticks\": \"\"}}, \"type\": \"scattergeo\"}], \"scattergl\": [{\"marker\": {\"colorbar\": {\"outlinewidth\": 0, \"ticks\": \"\"}}, \"type\": \"scattergl\"}], \"scattermapbox\": [{\"marker\": {\"colorbar\": {\"outlinewidth\": 0, \"ticks\": \"\"}}, \"type\": \"scattermapbox\"}], \"scatterpolar\": [{\"marker\": {\"colorbar\": {\"outlinewidth\": 0, \"ticks\": \"\"}}, \"type\": \"scatterpolar\"}], \"scatterpolargl\": [{\"marker\": {\"colorbar\": {\"outlinewidth\": 0, \"ticks\": \"\"}}, \"type\": \"scatterpolargl\"}], \"scatterternary\": [{\"marker\": {\"colorbar\": {\"outlinewidth\": 0, \"ticks\": \"\"}}, \"type\": \"scatterternary\"}], \"surface\": [{\"colorbar\": {\"outlinewidth\": 0, \"ticks\": \"\"}, \"colorscale\": [[0.0, \"#0d0887\"], [0.1111111111111111, \"#46039f\"], [0.2222222222222222, \"#7201a8\"], [0.3333333333333333, \"#9c179e\"], [0.4444444444444444, \"#bd3786\"], [0.5555555555555556, \"#d8576b\"], [0.6666666666666666, \"#ed7953\"], [0.7777777777777778, \"#fb9f3a\"], [0.8888888888888888, \"#fdca26\"], [1.0, \"#f0f921\"]], \"type\": \"surface\"}], \"table\": [{\"cells\": {\"fill\": {\"color\": \"#EBF0F8\"}, \"line\": {\"color\": \"white\"}}, \"header\": {\"fill\": {\"color\": \"#C8D4E3\"}, \"line\": {\"color\": \"white\"}}, \"type\": \"table\"}]}, \"layout\": {\"annotationdefaults\": {\"arrowcolor\": \"#2a3f5f\", \"arrowhead\": 0, \"arrowwidth\": 1}, \"coloraxis\": {\"colorbar\": {\"outlinewidth\": 0, \"ticks\": \"\"}}, \"colorscale\": {\"diverging\": [[0, \"#8e0152\"], [0.1, \"#c51b7d\"], [0.2, \"#de77ae\"], [0.3, \"#f1b6da\"], [0.4, \"#fde0ef\"], [0.5, \"#f7f7f7\"], [0.6, \"#e6f5d0\"], [0.7, \"#b8e186\"], [0.8, \"#7fbc41\"], [0.9, \"#4d9221\"], [1, \"#276419\"]], \"sequential\": [[0.0, \"#0d0887\"], [0.1111111111111111, \"#46039f\"], [0.2222222222222222, \"#7201a8\"], [0.3333333333333333, \"#9c179e\"], [0.4444444444444444, \"#bd3786\"], [0.5555555555555556, \"#d8576b\"], [0.6666666666666666, \"#ed7953\"], [0.7777777777777778, \"#fb9f3a\"], [0.8888888888888888, \"#fdca26\"], [1.0, \"#f0f921\"]], \"sequentialminus\": [[0.0, \"#0d0887\"], [0.1111111111111111, \"#46039f\"], [0.2222222222222222, \"#7201a8\"], [0.3333333333333333, \"#9c179e\"], [0.4444444444444444, \"#bd3786\"], [0.5555555555555556, \"#d8576b\"], [0.6666666666666666, \"#ed7953\"], [0.7777777777777778, \"#fb9f3a\"], [0.8888888888888888, \"#fdca26\"], [1.0, \"#f0f921\"]]}, \"colorway\": [\"#636efa\", \"#EF553B\", \"#00cc96\", \"#ab63fa\", \"#FFA15A\", \"#19d3f3\", \"#FF6692\", \"#B6E880\", \"#FF97FF\", \"#FECB52\"], \"font\": {\"color\": \"#2a3f5f\"}, \"geo\": {\"bgcolor\": \"white\", \"lakecolor\": \"white\", \"landcolor\": \"#E5ECF6\", \"showlakes\": true, \"showland\": true, \"subunitcolor\": \"white\"}, \"hoverlabel\": {\"align\": \"left\"}, \"hovermode\": \"closest\", \"mapbox\": {\"style\": \"light\"}, \"paper_bgcolor\": \"white\", \"plot_bgcolor\": \"#E5ECF6\", \"polar\": {\"angularaxis\": {\"gridcolor\": \"white\", \"linecolor\": \"white\", \"ticks\": \"\"}, \"bgcolor\": \"#E5ECF6\", \"radialaxis\": {\"gridcolor\": \"white\", \"linecolor\": \"white\", \"ticks\": \"\"}}, \"scene\": {\"xaxis\": {\"backgroundcolor\": \"#E5ECF6\", \"gridcolor\": \"white\", \"gridwidth\": 2, \"linecolor\": \"white\", \"showbackground\": true, \"ticks\": \"\", \"zerolinecolor\": \"white\"}, \"yaxis\": {\"backgroundcolor\": \"#E5ECF6\", \"gridcolor\": \"white\", \"gridwidth\": 2, \"linecolor\": \"white\", \"showbackground\": true, \"ticks\": \"\", \"zerolinecolor\": \"white\"}, \"zaxis\": {\"backgroundcolor\": \"#E5ECF6\", \"gridcolor\": \"white\", \"gridwidth\": 2, \"linecolor\": \"white\", \"showbackground\": true, \"ticks\": \"\", \"zerolinecolor\": \"white\"}}, \"shapedefaults\": {\"line\": {\"color\": \"#2a3f5f\"}}, \"ternary\": {\"aaxis\": {\"gridcolor\": \"white\", \"linecolor\": \"white\", \"ticks\": \"\"}, \"baxis\": {\"gridcolor\": \"white\", \"linecolor\": \"white\", \"ticks\": \"\"}, \"bgcolor\": \"#E5ECF6\", \"caxis\": {\"gridcolor\": \"white\", \"linecolor\": \"white\", \"ticks\": \"\"}}, \"title\": {\"x\": 0.05}, \"xaxis\": {\"automargin\": true, \"gridcolor\": \"white\", \"linecolor\": \"white\", \"ticks\": \"\", \"title\": {\"standoff\": 15}, \"zerolinecolor\": \"white\", \"zerolinewidth\": 2}, \"yaxis\": {\"automargin\": true, \"gridcolor\": \"white\", \"linecolor\": \"white\", \"ticks\": \"\", \"title\": {\"standoff\": 15}, \"zerolinecolor\": \"white\", \"zerolinewidth\": 2}}}, \"xaxis\": {\"anchor\": \"y\", \"domain\": [0.0, 1.0], \"title\": {\"text\": \"index\"}}, \"yaxis\": {\"anchor\": \"x\", \"domain\": [0.0, 1.0], \"title\": {\"text\": \"take_home_salary\"}}},\n",
       "                        {\"responsive\": true}\n",
       "                    ).then(function(){\n",
       "                            \n",
       "var gd = document.getElementById('44385561-bc0f-407b-b2cc-cb845051e13a');\n",
       "var x = new MutationObserver(function (mutations, observer) {{\n",
       "        var display = window.getComputedStyle(gd).display;\n",
       "        if (!display || display === 'none') {{\n",
       "            console.log([gd, 'removed!']);\n",
       "            Plotly.purge(gd);\n",
       "            observer.disconnect();\n",
       "        }}\n",
       "}});\n",
       "\n",
       "// Listen for the removal of the full notebook cells\n",
       "var notebookContainer = gd.closest('#notebook-container');\n",
       "if (notebookContainer) {{\n",
       "    x.observe(notebookContainer, {childList: true});\n",
       "}}\n",
       "\n",
       "// Listen for the clearing of the current output cell\n",
       "var outputEl = gd.closest('.output');\n",
       "if (outputEl) {{\n",
       "    x.observe(outputEl, {childList: true});\n",
       "}}\n",
       "\n",
       "                        })\n",
       "                };\n",
       "                });\n",
       "            </script>\n",
       "        </div>"
      ]
     },
     "metadata": {},
     "output_type": "display_data"
    }
   ],
   "source": [
    "fig = px.scatter(s.take_home_salary.reset_index(), 'index', 'take_home_salary')\n",
    "# fig.add_scatter(s.take_home_salary.reset_index(), 'index', 'take_home_salary')\n",
    "fig"
   ]
  },
  {
   "cell_type": "code",
   "execution_count": null,
   "metadata": {},
   "outputs": [],
   "source": []
  },
  {
   "cell_type": "code",
   "execution_count": 28,
   "metadata": {},
   "outputs": [],
   "source": [
    "me = User(\n",
    "    'placeholder', \n",
    "    pd.datetime.today() - pd.DateOffset(years=29), \n",
    "    income_percentile=80\n",
    ")"
   ]
  },
  {
   "cell_type": "code",
   "execution_count": 45,
   "metadata": {},
   "outputs": [
    {
     "data": {
      "text/plain": [
       "90.0"
      ]
     },
     "execution_count": 45,
     "metadata": {},
     "output_type": "execute_result"
    }
   ],
   "source": [
    "get_pctile(100)"
   ]
  },
  {
   "cell_type": "code",
   "execution_count": 29,
   "metadata": {},
   "outputs": [
    {
     "data": {
      "text/plain": [
       "[(0, 1.0),\n",
       " (366, 1.0584595986007068),\n",
       " (2192, 1.3807438602032824),\n",
       " (4018, 1.594454051419798),\n",
       " (5844, 1.828753099515052),\n",
       " (7671, 1.9459435367778166),\n",
       " (9497, 1.823626918786438),\n",
       " (11323, 1.6492554967794082)]"
      ]
     },
     "execution_count": 29,
     "metadata": {},
     "output_type": "execute_result"
    }
   ],
   "source": [
    "me.get_growth_points_to_fit(KitcesIncomeGrowthModel)"
   ]
  },
  {
   "cell_type": "code",
   "execution_count": 14,
   "metadata": {},
   "outputs": [],
   "source": [
    "kigm = KitcesIncomeGrowthModel(me.birthday, income_percentile=me.income_percentile)\n",
    "# me.get_growth_points_to_fit()"
   ]
  },
  {
   "cell_type": "code",
   "execution_count": 19,
   "metadata": {},
   "outputs": [
    {
     "data": {
      "text/plain": [
       "[(0, 1.0),\n",
       " (258, 1.0669881824391954),\n",
       " (2084, 1.4680536272267197),\n",
       " (3910, 1.7724145959272346),\n",
       " (5736, 2.1244655358330493),\n",
       " (7563, 2.3090183155729505),\n",
       " (9389, 2.254131326381477),\n",
       " (11215, 2.0815939556498404)]"
      ]
     },
     "execution_count": 19,
     "metadata": {},
     "output_type": "execute_result"
    }
   ],
   "source": [
    "me.get_growth_points_to_fit(KitcesIncomeGrowthModel)"
   ]
  },
  {
   "cell_type": "code",
   "execution_count": 17,
   "metadata": {},
   "outputs": [
    {
     "data": {
      "text/plain": [
       "[(0, 1.0),\n",
       " (1774, 1.3756874512010506),\n",
       " (3600, 1.6608988069113084),\n",
       " (5426, 1.9907996029243749),\n",
       " (7253, 2.1637407942159137),\n",
       " (9079, 2.112307153874343),\n",
       " (10905, 1.9506253928155697)]"
      ]
     },
     "execution_count": 17,
     "metadata": {},
     "output_type": "execute_result"
    }
   ],
   "source": [
    "kigm.get_growth_points_to_fit(start_dt=pd.datetime(2020, 11, 1))"
   ]
  },
  {
   "cell_type": "code",
   "execution_count": null,
   "metadata": {},
   "outputs": [],
   "source": [
    "go.layout.XAxis()"
   ]
  }
 ],
 "metadata": {
  "kernelspec": {
   "display_name": "Python 3",
   "language": "python",
   "name": "python3"
  },
  "language_info": {
   "codemirror_mode": {
    "name": "ipython",
    "version": 3
   },
   "file_extension": ".py",
   "mimetype": "text/x-python",
   "name": "python",
   "nbconvert_exporter": "python",
   "pygments_lexer": "ipython3",
   "version": "3.7.3"
  }
 },
 "nbformat": 4,
 "nbformat_minor": 2
}
