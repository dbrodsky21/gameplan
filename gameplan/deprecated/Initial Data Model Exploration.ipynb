{
 "cells": [
  {
   "cell_type": "code",
   "execution_count": 1,
   "metadata": {
    "scrolled": true
   },
   "outputs": [],
   "source": [
    "import pandas as pd\n",
    "import numpy as np\n",
    "import shelve \n",
    "\n",
    "from importlib import reload\n",
    "\n",
    "%matplotlib inline"
   ]
  },
  {
   "cell_type": "code",
   "execution_count": 2,
   "metadata": {},
   "outputs": [],
   "source": [
    "# from gameplan.user import User\n",
    "# import gameplan.paths as paths\n",
    "# from gameplan.user_input import main"
   ]
  },
  {
   "cell_type": "code",
   "execution_count": 38,
   "metadata": {},
   "outputs": [],
   "source": [
    "import gameplan.helpers as hp\n",
    "import gameplan.income_streams\n",
    "import gameplan.expenses\n",
    "import gameplan.user\n",
    "\n",
    "reload(gameplan.income_streams)\n",
    "reload(gameplan.expenses)\n",
    "reload(gameplan.user)\n",
    "from gameplan.income_streams import IncomeStream, Salary\n",
    "from gameplan.user import User\n"
   ]
  },
  {
   "cell_type": "code",
   "execution_count": 49,
   "metadata": {},
   "outputs": [],
   "source": [
    "usr = User('a@gma.co')\n",
    "r = gameplan.expenses.Rent(3000)\n",
    "u = gameplan.expenses.Utilities(125)\n",
    "misc = gameplan.expenses.Expense(\n",
    "    expense_type='miscellaneous_expenses', \n",
    "    amount=5000, \n",
    "    recurring=True, \n",
    "    start_dt=pd.datetime.today(),\n",
    "    freq='M'\n",
    ")\n",
    "s = Salary(120000/24, payday_freq='SM', next_paycheck_dt=hp.get_offset_date('SM', pd.datetime(2019,7,4)))"
   ]
  },
  {
   "cell_type": "code",
   "execution_count": 50,
   "metadata": {},
   "outputs": [],
   "source": [
    "usr.add_income_stream(s)\n",
    "for exp in [r, u, misc]:\n",
    "    usr.add_expense(exp)"
   ]
  },
  {
   "cell_type": "code",
   "execution_count": null,
   "metadata": {},
   "outputs": [],
   "source": []
  },
  {
   "cell_type": "code",
   "execution_count": null,
   "metadata": {},
   "outputs": [],
   "source": []
  },
  {
   "cell_type": "code",
   "execution_count": null,
   "metadata": {},
   "outputs": [],
   "source": []
  },
  {
   "cell_type": "code",
   "execution_count": 5,
   "metadata": {},
   "outputs": [],
   "source": [
    "s = Salary(150000/24, payday_freq='SM', next_paycheck_dt=hp.get_offset_date('SM', pd.datetime(2019,7,4)))"
   ]
  },
  {
   "cell_type": "code",
   "execution_count": 6,
   "metadata": {},
   "outputs": [
    {
     "data": {
      "text/plain": [
       "150000.0"
      ]
     },
     "execution_count": 6,
     "metadata": {},
     "output_type": "execute_result"
    }
   ],
   "source": [
    "s.annualized_salary"
   ]
  },
  {
   "cell_type": "code",
   "execution_count": 90,
   "metadata": {},
   "outputs": [],
   "source": [
    "a = pd.datetime.today()"
   ]
  },
  {
   "cell_type": "code",
   "execution_count": 94,
   "metadata": {},
   "outputs": [],
   "source": [
    "b = pd.tseries.frequencies.to_offset('SM')"
   ]
  },
  {
   "cell_type": "code",
   "execution_count": 117,
   "metadata": {},
   "outputs": [],
   "source": [
    "def get_offset_date(freq, ref_date=pd.datetime.today()):\n",
    "    offset = pd.tseries.frequencies.to_offset(freq)\n",
    "    return offset.rollforward(ref_date)"
   ]
  },
  {
   "cell_type": "code",
   "execution_count": 16,
   "metadata": {},
   "outputs": [],
   "source": [
    "a = pd.tseries.frequencies.get_period_alias()"
   ]
  },
  {
   "cell_type": "code",
   "execution_count": 24,
   "metadata": {},
   "outputs": [
    {
     "data": {
      "text/plain": [
       "DatetimeIndex(['2019-07-01', '2019-08-01', '2019-09-01', '2019-10-01',\n",
       "               '2019-11-01', '2019-12-01', '2020-01-01', '2020-02-01',\n",
       "               '2020-03-01', '2020-04-01', '2020-05-01', '2020-06-01'],\n",
       "              dtype='datetime64[ns]', freq='MS')"
      ]
     },
     "execution_count": 24,
     "metadata": {},
     "output_type": "execute_result"
    }
   ],
   "source": [
    "pd.date_range(\n",
    "            start=pd.datetime.today(),\n",
    "            end=pd.datetime.today() + pd.DateOffset(years=1),\n",
    "            freq='MS',\n",
    "            normalize=True\n",
    "        )"
   ]
  },
  {
   "cell_type": "code",
   "execution_count": null,
   "metadata": {},
   "outputs": [],
   "source": []
  },
  {
   "cell_type": "code",
   "execution_count": 14,
   "metadata": {},
   "outputs": [
    {
     "data": {
      "text/plain": [
       "Timestamp('2019-12-31 16:49:38.989558')"
      ]
     },
     "execution_count": 14,
     "metadata": {},
     "output_type": "execute_result"
    }
   ],
   "source": [
    "pd.datetime.today() + a"
   ]
  },
  {
   "cell_type": "code",
   "execution_count": 97,
   "metadata": {},
   "outputs": [
    {
     "data": {
      "text/plain": [
       "Timestamp('2019-06-15 16:05:54.471918')"
      ]
     },
     "execution_count": 97,
     "metadata": {},
     "output_type": "execute_result"
    }
   ],
   "source": [
    "b.rollforward(pd.datetime.today())"
   ]
  },
  {
   "cell_type": "code",
   "execution_count": null,
   "metadata": {},
   "outputs": [],
   "source": [
    "pd.offsets."
   ]
  },
  {
   "cell_type": "code",
   "execution_count": 89,
   "metadata": {},
   "outputs": [
    {
     "ename": "ValueError",
     "evalue": "could not convert string to Timestamp",
     "output_type": "error",
     "traceback": [
      "\u001b[0;31m---------------------------------------------------------------------------\u001b[0m",
      "\u001b[0;31mValueError\u001b[0m                                Traceback (most recent call last)",
      "\u001b[0;32mpandas/_libs/tslibs/conversion.pyx\u001b[0m in \u001b[0;36mpandas._libs.tslibs.conversion.convert_str_to_tsobject\u001b[0;34m()\u001b[0m\n",
      "\u001b[0;32mpandas/_libs/tslibs/np_datetime.pyx\u001b[0m in \u001b[0;36mpandas._libs.tslibs.np_datetime._string_to_dts\u001b[0;34m()\u001b[0m\n",
      "\u001b[0;31mValueError\u001b[0m: Error parsing datetime string \"SM\" at position 0",
      "\nDuring handling of the above exception, another exception occurred:\n",
      "\u001b[0;31mValueError\u001b[0m                                Traceback (most recent call last)",
      "\u001b[0;32mpandas/_libs/tslibs/conversion.pyx\u001b[0m in \u001b[0;36mpandas._libs.tslibs.conversion.convert_str_to_tsobject\u001b[0;34m()\u001b[0m\n",
      "\u001b[0;32mpandas/_libs/tslibs/parsing.pyx\u001b[0m in \u001b[0;36mpandas._libs.tslibs.parsing.parse_datetime_string\u001b[0;34m()\u001b[0m\n",
      "\u001b[0;32m~/.pyenv/versions/3.7.3/envs/db_env/lib/python3.7/site-packages/dateutil/parser/_parser.py\u001b[0m in \u001b[0;36mparse\u001b[0;34m(timestr, parserinfo, **kwargs)\u001b[0m\n\u001b[1;32m   1357\u001b[0m     \u001b[0;32melse\u001b[0m\u001b[0;34m:\u001b[0m\u001b[0;34m\u001b[0m\u001b[0;34m\u001b[0m\u001b[0m\n\u001b[0;32m-> 1358\u001b[0;31m         \u001b[0;32mreturn\u001b[0m \u001b[0mDEFAULTPARSER\u001b[0m\u001b[0;34m.\u001b[0m\u001b[0mparse\u001b[0m\u001b[0;34m(\u001b[0m\u001b[0mtimestr\u001b[0m\u001b[0;34m,\u001b[0m \u001b[0;34m**\u001b[0m\u001b[0mkwargs\u001b[0m\u001b[0;34m)\u001b[0m\u001b[0;34m\u001b[0m\u001b[0;34m\u001b[0m\u001b[0m\n\u001b[0m\u001b[1;32m   1359\u001b[0m \u001b[0;34m\u001b[0m\u001b[0m\n",
      "\u001b[0;32m~/.pyenv/versions/3.7.3/envs/db_env/lib/python3.7/site-packages/dateutil/parser/_parser.py\u001b[0m in \u001b[0;36mparse\u001b[0;34m(self, timestr, default, ignoretz, tzinfos, **kwargs)\u001b[0m\n\u001b[1;32m    648\u001b[0m         \u001b[0;32mif\u001b[0m \u001b[0mres\u001b[0m \u001b[0;32mis\u001b[0m \u001b[0;32mNone\u001b[0m\u001b[0;34m:\u001b[0m\u001b[0;34m\u001b[0m\u001b[0;34m\u001b[0m\u001b[0m\n\u001b[0;32m--> 649\u001b[0;31m             \u001b[0;32mraise\u001b[0m \u001b[0mValueError\u001b[0m\u001b[0;34m(\u001b[0m\u001b[0;34m\"Unknown string format:\"\u001b[0m\u001b[0;34m,\u001b[0m \u001b[0mtimestr\u001b[0m\u001b[0;34m)\u001b[0m\u001b[0;34m\u001b[0m\u001b[0;34m\u001b[0m\u001b[0m\n\u001b[0m\u001b[1;32m    650\u001b[0m \u001b[0;34m\u001b[0m\u001b[0m\n",
      "\u001b[0;31mValueError\u001b[0m: ('Unknown string format:', 'SM')",
      "\nDuring handling of the above exception, another exception occurred:\n",
      "\u001b[0;31mValueError\u001b[0m                                Traceback (most recent call last)",
      "\u001b[0;32m<ipython-input-89-8f4a76774d53>\u001b[0m in \u001b[0;36m<module>\u001b[0;34m\u001b[0m\n\u001b[0;32m----> 1\u001b[0;31m \u001b[0mpd\u001b[0m\u001b[0;34m.\u001b[0m\u001b[0mDateOffset\u001b[0m\u001b[0;34m.\u001b[0m\u001b[0mrollforward\u001b[0m\u001b[0;34m(\u001b[0m\u001b[0mpd\u001b[0m\u001b[0;34m.\u001b[0m\u001b[0mdatetime\u001b[0m\u001b[0;34m.\u001b[0m\u001b[0mtoday\u001b[0m\u001b[0;34m(\u001b[0m\u001b[0;34m)\u001b[0m\u001b[0;34m,\u001b[0m \u001b[0;34m'SM'\u001b[0m\u001b[0;34m)\u001b[0m\u001b[0;34m\u001b[0m\u001b[0;34m\u001b[0m\u001b[0m\n\u001b[0m",
      "\u001b[0;32m~/.pyenv/versions/3.7.3/envs/db_env/lib/python3.7/site-packages/pandas/tseries/offsets.py\u001b[0m in \u001b[0;36mrollforward\u001b[0;34m(self, dt)\u001b[0m\n\u001b[1;32m    346\u001b[0m         \u001b[0mRoll\u001b[0m \u001b[0mprovided\u001b[0m \u001b[0mdate\u001b[0m \u001b[0mforward\u001b[0m \u001b[0mto\u001b[0m \u001b[0mnext\u001b[0m \u001b[0moffset\u001b[0m \u001b[0monly\u001b[0m \u001b[0;32mif\u001b[0m \u001b[0;32mnot\u001b[0m \u001b[0mon\u001b[0m \u001b[0moffset\u001b[0m\u001b[0;34m.\u001b[0m\u001b[0;34m\u001b[0m\u001b[0;34m\u001b[0m\u001b[0m\n\u001b[1;32m    347\u001b[0m         \"\"\"\n\u001b[0;32m--> 348\u001b[0;31m         \u001b[0mdt\u001b[0m \u001b[0;34m=\u001b[0m \u001b[0mas_timestamp\u001b[0m\u001b[0;34m(\u001b[0m\u001b[0mdt\u001b[0m\u001b[0;34m)\u001b[0m\u001b[0;34m\u001b[0m\u001b[0;34m\u001b[0m\u001b[0m\n\u001b[0m\u001b[1;32m    349\u001b[0m         \u001b[0;32mif\u001b[0m \u001b[0;32mnot\u001b[0m \u001b[0mself\u001b[0m\u001b[0;34m.\u001b[0m\u001b[0monOffset\u001b[0m\u001b[0;34m(\u001b[0m\u001b[0mdt\u001b[0m\u001b[0;34m)\u001b[0m\u001b[0;34m:\u001b[0m\u001b[0;34m\u001b[0m\u001b[0;34m\u001b[0m\u001b[0m\n\u001b[1;32m    350\u001b[0m             \u001b[0mdt\u001b[0m \u001b[0;34m=\u001b[0m \u001b[0mdt\u001b[0m \u001b[0;34m+\u001b[0m \u001b[0mself\u001b[0m\u001b[0;34m.\u001b[0m\u001b[0m__class__\u001b[0m\u001b[0;34m(\u001b[0m\u001b[0;36m1\u001b[0m\u001b[0;34m,\u001b[0m \u001b[0mnormalize\u001b[0m\u001b[0;34m=\u001b[0m\u001b[0mself\u001b[0m\u001b[0;34m.\u001b[0m\u001b[0mnormalize\u001b[0m\u001b[0;34m,\u001b[0m \u001b[0;34m**\u001b[0m\u001b[0mself\u001b[0m\u001b[0;34m.\u001b[0m\u001b[0mkwds\u001b[0m\u001b[0;34m)\u001b[0m\u001b[0;34m\u001b[0m\u001b[0;34m\u001b[0m\u001b[0m\n",
      "\u001b[0;32m~/.pyenv/versions/3.7.3/envs/db_env/lib/python3.7/site-packages/pandas/tseries/offsets.py\u001b[0m in \u001b[0;36mas_timestamp\u001b[0;34m(obj)\u001b[0m\n\u001b[1;32m     43\u001b[0m         \u001b[0;32mreturn\u001b[0m \u001b[0mobj\u001b[0m\u001b[0;34m\u001b[0m\u001b[0;34m\u001b[0m\u001b[0m\n\u001b[1;32m     44\u001b[0m     \u001b[0;32mtry\u001b[0m\u001b[0;34m:\u001b[0m\u001b[0;34m\u001b[0m\u001b[0;34m\u001b[0m\u001b[0m\n\u001b[0;32m---> 45\u001b[0;31m         \u001b[0;32mreturn\u001b[0m \u001b[0mTimestamp\u001b[0m\u001b[0;34m(\u001b[0m\u001b[0mobj\u001b[0m\u001b[0;34m)\u001b[0m\u001b[0;34m\u001b[0m\u001b[0;34m\u001b[0m\u001b[0m\n\u001b[0m\u001b[1;32m     46\u001b[0m     \u001b[0;32mexcept\u001b[0m \u001b[0;34m(\u001b[0m\u001b[0mOutOfBoundsDatetime\u001b[0m\u001b[0;34m)\u001b[0m\u001b[0;34m:\u001b[0m\u001b[0;34m\u001b[0m\u001b[0;34m\u001b[0m\u001b[0m\n\u001b[1;32m     47\u001b[0m         \u001b[0;32mpass\u001b[0m\u001b[0;34m\u001b[0m\u001b[0;34m\u001b[0m\u001b[0m\n",
      "\u001b[0;32mpandas/_libs/tslibs/timestamps.pyx\u001b[0m in \u001b[0;36mpandas._libs.tslibs.timestamps.Timestamp.__new__\u001b[0;34m()\u001b[0m\n",
      "\u001b[0;32mpandas/_libs/tslibs/conversion.pyx\u001b[0m in \u001b[0;36mpandas._libs.tslibs.conversion.convert_to_tsobject\u001b[0;34m()\u001b[0m\n",
      "\u001b[0;32mpandas/_libs/tslibs/conversion.pyx\u001b[0m in \u001b[0;36mpandas._libs.tslibs.conversion.convert_str_to_tsobject\u001b[0;34m()\u001b[0m\n",
      "\u001b[0;31mValueError\u001b[0m: could not convert string to Timestamp"
     ]
    }
   ],
   "source": [
    "pd.DateOffset.rollforward(pd.datetime.today(), 'SM')"
   ]
  },
  {
   "cell_type": "code",
   "execution_count": null,
   "metadata": {},
   "outputs": [],
   "source": [
    "pd.offsets."
   ]
  },
  {
   "cell_type": "code",
   "execution_count": 59,
   "metadata": {},
   "outputs": [
    {
     "data": {
      "text/html": [
       "<div>\n",
       "<style scoped>\n",
       "    .dataframe tbody tr th:only-of-type {\n",
       "        vertical-align: middle;\n",
       "    }\n",
       "\n",
       "    .dataframe tbody tr th {\n",
       "        vertical-align: top;\n",
       "    }\n",
       "\n",
       "    .dataframe thead th {\n",
       "        text-align: right;\n",
       "    }\n",
       "</style>\n",
       "<table border=\"1\" class=\"dataframe\">\n",
       "  <thead>\n",
       "    <tr style=\"text-align: right;\">\n",
       "      <th></th>\n",
       "      <th>salary</th>\n",
       "    </tr>\n",
       "  </thead>\n",
       "  <tbody>\n",
       "    <tr>\n",
       "      <th>2019-06-15</th>\n",
       "      <td>150000.0</td>\n",
       "    </tr>\n",
       "    <tr>\n",
       "      <th>2020-06-14</th>\n",
       "      <td>150000.0</td>\n",
       "    </tr>\n",
       "    <tr>\n",
       "      <th>2021-06-14</th>\n",
       "      <td>150000.0</td>\n",
       "    </tr>\n",
       "  </tbody>\n",
       "</table>\n",
       "</div>"
      ],
      "text/plain": [
       "              salary\n",
       "2019-06-15  150000.0\n",
       "2020-06-14  150000.0\n",
       "2021-06-14  150000.0"
      ]
     },
     "execution_count": 59,
     "metadata": {},
     "output_type": "execute_result"
    }
   ],
   "source": [
    "inc.cash_flows.groupby(pd.Grouper(level=0, freq='365D')).sum()"
   ]
  },
  {
   "cell_type": "code",
   "execution_count": null,
   "metadata": {},
   "outputs": [],
   "source": [
    "inc.cash_flows.groupby(a)"
   ]
  },
  {
   "cell_type": "code",
   "execution_count": 48,
   "metadata": {
    "scrolled": true
   },
   "outputs": [
    {
     "data": {
      "image/png": "[encoded data removed]",
      "text/plain": [
       "<Figure size 432x288 with 1 Axes>"
      ]
     },
     "metadata": {
      "needs_background": "light"
     },
     "output_type": "display_data"
    }
   ],
   "source": [
    "inc.plot_cash_flows(cumulative=True )"
   ]
  },
  {
   "cell_type": "code",
   "execution_count": 14,
   "metadata": {},
   "outputs": [
    {
     "data": {
      "text/plain": [
       "'Y'"
      ]
     },
     "execution_count": 14,
     "metadata": {},
     "output_type": "execute_result"
    }
   ],
   "source": [
    "inc."
   ]
  },
  {
   "cell_type": "code",
   "execution_count": null,
   "metadata": {},
   "outputs": [],
   "source": [
    "FREQ_MAP = {\n",
    "    'Y': {\n",
    "        'offset': pd.DateOffset(years=1),\n",
    "    }\n",
    "}"
   ]
  },
  {
   "cell_type": "code",
   "execution_count": 15,
   "metadata": {},
   "outputs": [
    {
     "ename": "AttributeError",
     "evalue": "'IncomeStream' object has no attribute 'FREQ_MAP'",
     "output_type": "error",
     "traceback": [
      "\u001b[0;31m---------------------------------------------------------------------------\u001b[0m",
      "\u001b[0;31mAttributeError\u001b[0m                            Traceback (most recent call last)",
      "\u001b[0;32m<ipython-input-15-f22e5e8d65fd>\u001b[0m in \u001b[0;36m<module>\u001b[0;34m\u001b[0m\n\u001b[0;32m----> 1\u001b[0;31m \u001b[0minc\u001b[0m\u001b[0;34m.\u001b[0m\u001b[0mFREQ_MAP\u001b[0m\u001b[0;34m.\u001b[0m\u001b[0mget\u001b[0m\u001b[0;34m(\u001b[0m\u001b[0minc\u001b[0m\u001b[0;34m.\u001b[0m\u001b[0mfreq\u001b[0m\u001b[0;34m,\u001b[0m \u001b[0minc\u001b[0m\u001b[0;34m.\u001b[0m\u001b[0mfreq\u001b[0m\u001b[0;34m)\u001b[0m\u001b[0;34m\u001b[0m\u001b[0;34m\u001b[0m\u001b[0m\n\u001b[0m",
      "\u001b[0;31mAttributeError\u001b[0m: 'IncomeStream' object has no attribute 'FREQ_MAP'"
     ]
    }
   ],
   "source": [
    "FREQ_MAP.get(inc.freq, inc.freq)"
   ]
  },
  {
   "cell_type": "code",
   "execution_count": null,
   "metadata": {},
   "outputs": [],
   "source": []
  },
  {
   "cell_type": "code",
   "execution_count": 3,
   "metadata": {},
   "outputs": [
    {
     "ename": "AttributeError",
     "evalue": "module 'gameplan' has no attribute 'income_streams'",
     "output_type": "error",
     "traceback": [
      "\u001b[0;31m---------------------------------------------------------------------------\u001b[0m",
      "\u001b[0;31mAttributeError\u001b[0m                            Traceback (most recent call last)",
      "\u001b[0;32m<ipython-input-3-339fc56ff8c8>\u001b[0m in \u001b[0;36m<module>\u001b[0;34m\u001b[0m\n\u001b[0;32m----> 1\u001b[0;31m \u001b[0mgameplan\u001b[0m\u001b[0;34m.\u001b[0m\u001b[0mincome_streams\u001b[0m\u001b[0;34m\u001b[0m\u001b[0;34m\u001b[0m\u001b[0m\n\u001b[0m",
      "\u001b[0;31mAttributeError\u001b[0m: module 'gameplan' has no attribute 'income_streams'"
     ]
    }
   ],
   "source": [
    "gameplan.income_streams"
   ]
  },
  {
   "cell_type": "code",
   "execution_count": 4,
   "metadata": {},
   "outputs": [
    {
     "ename": "NameError",
     "evalue": "name 'reload' is not defined",
     "output_type": "error",
     "traceback": [
      "\u001b[0;31m---------------------------------------------------------------------------\u001b[0m",
      "\u001b[0;31mNameError\u001b[0m                                 Traceback (most recent call last)",
      "\u001b[0;32m<ipython-input-4-b18b1aca6983>\u001b[0m in \u001b[0;36m<module>\u001b[0;34m\u001b[0m\n\u001b[0;32m----> 1\u001b[0;31m \u001b[0mreload\u001b[0m\u001b[0;34m(\u001b[0m\u001b[0mgameplan\u001b[0m\u001b[0;34m)\u001b[0m\u001b[0;34m\u001b[0m\u001b[0;34m\u001b[0m\u001b[0m\n\u001b[0m",
      "\u001b[0;31mNameError\u001b[0m: name 'reload' is not defined"
     ]
    }
   ],
   "source": [
    "reload(gameplan)"
   ]
  },
  {
   "cell_type": "code",
   "execution_count": null,
   "metadata": {},
   "outputs": [],
   "source": [
    "gameplan."
   ]
  },
  {
   "cell_type": "code",
   "execution_count": 3,
   "metadata": {
    "scrolled": false
   },
   "outputs": [
    {
     "name": "stdout",
     "output_type": "stream",
     "text": [
      "Hi! Today we're gonna... Let's get started!\n",
      "\n",
      "Please enter your email address\n",
      "david@ls.com\n",
      "Hey david@ls.com, we've found your record and have loaded your profile!\n",
      "\n",
      "Are you currently earning a salary? [Type: Yes or No]\n",
      "Yes\n",
      "\n",
      "How much do you earn before taxes? (Enter whatever's easiest: per week/month/year)\n",
      "180000\n",
      "\n",
      "Is that per week, month, or year?\n",
      "year\n",
      "\n",
      "How often do you get paid? [Select what's closest: weekly, bi-weekly, twice monthly, monthly\n",
      "bi-weekly\n",
      "\n",
      "When's your next paycheck? (Please enter in YYYY-MM-DD format)\n",
      "2019-05-05\n",
      "\n",
      "\n",
      "We estimate your tax rate is 35%, would you like to change this estimate?\n",
      "    (If so, please enter a %, otherwise skip)\n",
      "\n",
      "45%\n",
      "\n",
      "Based on these inputs we estimate that you're taking home about $4,125\n",
      "from every twice monthly paycheck, or $99,000 a year.\n",
      "\n",
      "Lets try to understand where that goes:\n",
      "\n",
      "Do you rent or own your residence? (Type 'rent' or 'own')\n",
      "rent\n",
      "\n",
      "How much is your rent per month?\n",
      "1450\n",
      "\n",
      "How much are your utilities per month?\n",
      "225\n",
      "\n",
      "What about other (consistent) miscellaneous expenses in a given month?\n",
      "5850\n",
      "\n",
      "Alright, after expenses it seems like you have $725 left over per month\n",
      "\n",
      "\n",
      "    We can either assume that money goes into a savings account or you can give us some more details on where you think it's going.\n",
      "\n",
      "    Please check all that apply:\n",
      "    * Savings\n",
      "    * Investment\n",
      "    * Paying down debt, e.g. [Student, credit card, (mortgage?)]\n",
      "    * Consumption\n",
      "        - Clothes\n",
      "        - Alcohol\n",
      "        - Restaurants/bars\n",
      "        - Entertainment, e.g. movies, baseball games,\n",
      "        - Other: [     ]\n",
      "    \n",
      "Do you want to tell us more about any of those? [Yes | No]\n"
     ]
    }
   ],
   "source": [
    "u = main()"
   ]
  },
  {
   "cell_type": "code",
   "execution_count": 8,
   "metadata": {},
   "outputs": [],
   "source": [
    "class Asset():\n",
    "    def __init__(self, asset_type):\n",
    "        self.asset_type = asset_type"
   ]
  },
  {
   "cell_type": "code",
   "execution_count": 71,
   "metadata": {},
   "outputs": [],
   "source": [
    "class CashSavings(Asset):\n",
    "    def __init__(self, annualized_interest_rate):\n",
    "        super().__init__('cash_savings')\n",
    "        self.interest_rate = interest_rate\n",
    "        self.contributions = []\n",
    "\n",
    "    def add_contribution(self, amount, date, label, recurring=False, freq=None, periods=None):\n",
    "        if not recurring:\n",
    "            date_range = pd.date_range(\n",
    "                start=date, \n",
    "                periods=1, \n",
    "                freq='D',\n",
    "                normalize=True\n",
    "            )   \n",
    "        else:\n",
    "            date_range = pd.date_range(\n",
    "                start=date,\n",
    "                freq=freq,\n",
    "                periods=periods,\n",
    "                normalize=True\n",
    "            )\n",
    "\n",
    "        contrib = pd.DataFrame(\n",
    "            index=date_range,\n",
    "            data=[amount]*len(date_range),\n",
    "            columns=[label]\n",
    "        )\n",
    "\n",
    "        self.contributions.append(contrib)\n",
    "    \n",
    "    @property\n",
    "    def all_contributions(self):\n",
    "        df = (\n",
    "            pd.concat(self.contributions, axis=1)\n",
    "            .fillna(0)\n",
    "            .cumsum()\n",
    "        )\n",
    "        df['total_contributions'] = df.sum(axis=1)\n",
    "        return df\n",
    "    \n",
    "#     @property\n",
    "#     def daily_interest_rate(self):\n",
    "#         \"\"\"TO DO: Calc this the right way\"\"\"\n",
    "#         return annualized_interest_rate/365\n",
    "    \n",
    "#     def interest_pmts(self):\n",
    "#         \"\"\"TO DO: Maybe this should be discrete like when the pmts are actually made? Doesn't matter for now\"\"\"\n",
    "#         interest = self.daily_interest_rate\n",
    "#         return  self.all_contributions.total_value\n",
    "        \n",
    "    def value_through_time(self):\n",
    "        pass\n",
    "    \n",
    "    def value_at_a_given_point_in_time(self, dt):\n",
    "        pass\n",
    "    \n",
    "    def expected_value_through_time(self, periods, freq='d'):\n",
    "#         self.date_range = pd.date_range(\n",
    "#             start=next_paycheck_dt,\n",
    "#             periods=(years * self._annual_pmt_periods),\n",
    "#             freq=self._pmt_freqs\n",
    "#         )\n",
    "        pass\n"
   ]
  },
  {
   "cell_type": "code",
   "execution_count": 64,
   "metadata": {},
   "outputs": [],
   "source": [
    "rt = 0.01/365\n"
   ]
  },
  {
   "cell_type": "code",
   "execution_count": null,
   "metadata": {},
   "outputs": [],
   "source": [
    "5 * (1+rt).cumprod()"
   ]
  },
  {
   "cell_type": "code",
   "execution_count": null,
   "metadata": {},
   "outputs": [],
   "source": [
    "        observed_wage_change.apply(lambda x: x+1).cumprod(axis=1).apply(lambda x: x*salary).reset_index()\n"
   ]
  },
  {
   "cell_type": "code",
   "execution_count": 61,
   "metadata": {},
   "outputs": [],
   "source": [
    "sav = CashSavings(0.01)"
   ]
  },
  {
   "cell_type": "code",
   "execution_count": 62,
   "metadata": {},
   "outputs": [],
   "source": [
    "sav.add_contribution(40000, pd.datetime.today(), 'existing_savings')\n",
    "sav.add_contribution(500, u.salary.date_range[1], 'salary_contrib', recurring=True, freq='M', periods=12*10)"
   ]
  },
  {
   "cell_type": "code",
   "execution_count": 70,
   "metadata": {},
   "outputs": [],
   "source": [
    "daily_value = sav.all_contributions.resample('D').pad()"
   ]
  },
  {
   "cell_type": "code",
   "execution_count": 72,
   "metadata": {},
   "outputs": [],
   "source": [
    "daily_value['interest_rate'] = 0.01/365"
   ]
  },
  {
   "cell_type": "code",
   "execution_count": 75,
   "metadata": {
    "scrolled": true
   },
   "outputs": [
    {
     "data": {
      "text/plain": [
       "2019-04-28    1.000027\n",
       "2019-04-29    1.000055\n",
       "2019-04-30    1.000082\n",
       "2019-05-01    1.000110\n",
       "2019-05-02    1.000137\n",
       "2019-05-03    1.000164\n",
       "2019-05-04    1.000192\n",
       "2019-05-05    1.000219\n",
       "2019-05-06    1.000247\n",
       "2019-05-07    1.000274\n",
       "2019-05-08    1.000301\n",
       "2019-05-09    1.000329\n",
       "2019-05-10    1.000356\n",
       "2019-05-11    1.000384\n",
       "2019-05-12    1.000411\n",
       "2019-05-13    1.000438\n",
       "2019-05-14    1.000466\n",
       "2019-05-15    1.000493\n",
       "2019-05-16    1.000521\n",
       "2019-05-17    1.000548\n",
       "2019-05-18    1.000576\n",
       "2019-05-19    1.000603\n",
       "2019-05-20    1.000630\n",
       "2019-05-21    1.000658\n",
       "2019-05-22    1.000685\n",
       "2019-05-23    1.000713\n",
       "2019-05-24    1.000740\n",
       "2019-05-25    1.000767\n",
       "2019-05-26    1.000795\n",
       "2019-05-27    1.000822\n",
       "                ...   \n",
       "2029-04-01    1.104473\n",
       "2029-04-02    1.104503\n",
       "2029-04-03    1.104534\n",
       "2029-04-04    1.104564\n",
       "2029-04-05    1.104594\n",
       "2029-04-06    1.104625\n",
       "2029-04-07    1.104655\n",
       "2029-04-08    1.104685\n",
       "2029-04-09    1.104715\n",
       "2029-04-10    1.104746\n",
       "2029-04-11    1.104776\n",
       "2029-04-12    1.104806\n",
       "2029-04-13    1.104836\n",
       "2029-04-14    1.104867\n",
       "2029-04-15    1.104897\n",
       "2029-04-16    1.104927\n",
       "2029-04-17    1.104957\n",
       "2029-04-18    1.104988\n",
       "2029-04-19    1.105018\n",
       "2029-04-20    1.105048\n",
       "2029-04-21    1.105079\n",
       "2029-04-22    1.105109\n",
       "2029-04-23    1.105139\n",
       "2029-04-24    1.105169\n",
       "2029-04-25    1.105200\n",
       "2029-04-26    1.105230\n",
       "2029-04-27    1.105260\n",
       "2029-04-28    1.105291\n",
       "2029-04-29    1.105321\n",
       "2029-04-30    1.105351\n",
       "Freq: D, Name: interest_rate, Length: 3656, dtype: float64"
      ]
     },
     "execution_count": 75,
     "metadata": {},
     "output_type": "execute_result"
    }
   ],
   "source": [
    "(daily_value.interest_rate + 1).cumprod()"
   ]
  },
  {
   "cell_type": "code",
   "execution_count": null,
   "metadata": {},
   "outputs": [],
   "source": []
  },
  {
   "cell_type": "code",
   "execution_count": null,
   "metadata": {},
   "outputs": [],
   "source": []
  },
  {
   "cell_type": "code",
   "execution_count": null,
   "metadata": {},
   "outputs": [],
   "source": [
    "# I'm going to contribute $X or Y% of every paycheck to my savings"
   ]
  },
  {
   "cell_type": "code",
   "execution_count": null,
   "metadata": {},
   "outputs": [],
   "source": [
    "# Model as a perpetuity; 1. Frequency of cashflow 2. amount 3. interest rate 4. term\n",
    "# Frequency = 'M'\n",
    "# Amount = 200\n",
    "# i = 0.01\n",
    "# term = 20 years\n",
    "# Start Date = '2019-06-01'"
   ]
  },
  {
   "cell_type": "code",
   "execution_count": null,
   "metadata": {},
   "outputs": [],
   "source": [
    "* Types:\n",
    "    1. Salary\n",
    "    2. Bonus\n",
    "    3. Tax return\n",
    "    4. Dividends?\n",
    "    5. Inheritance\n",
    "    6. "
   ]
  },
  {
   "cell_type": "code",
   "execution_count": 21,
   "metadata": {},
   "outputs": [],
   "source": [
    "date_range = pd.date_range(\n",
    "    start='2019-06-01',\n",
    "    periods=20*12,\n",
    "    freq='M'\n",
    ")\n",
    "\n",
    "df = pd.DataFrame(\n",
    "    index=date_range,\n",
    "    data=[200]*len(date_range),\n",
    "    columns=['savings_from_salary']\n",
    ")"
   ]
  },
  {
   "cell_type": "code",
   "execution_count": 15,
   "metadata": {},
   "outputs": [
    {
     "data": {
      "text/plain": [
       "'savings_account'"
      ]
     },
     "execution_count": 15,
     "metadata": {},
     "output_type": "execute_result"
    }
   ],
   "source": [
    "a.asset_type"
   ]
  },
  {
   "cell_type": "code",
   "execution_count": null,
   "metadata": {},
   "outputs": [],
   "source": [
    "    def __init__(self, ticker, shares=None, share_price=None, expected_growth=None, vol=None):\n",
    "        self.ticker=ticker\n",
    "        self.shares=shares\n",
    "        self.share_price = share_price if share_price else self.get_share_price(ticker)\n",
    "        self.expected_growth = expected_growth if expected_growth else self.get_expected_growth(ticker)\n",
    "        self.vol = vol if vol else self.get_vol(ticker)\n",
    "\n",
    "    def get_share_price(self, ticker):\n",
    "        ## TO DO\n",
    "        return None\n",
    "\n",
    "    def get_expected_growth(self, ticker):\n",
    "        ## TO DO\n",
    "        return None\n",
    "\n",
    "    def get_vol(self, ticker):\n",
    "        ## TO DO\n",
    "        return None\n",
    "\n",
    "    def simulate_path(self, periods):\n",
    "        daily_growth = self.expected_growth/365\n",
    "        daily_vol = self.vol/365\n",
    "        daily_returns = 1 + np.random.normal(daily_growth, daily_vol, periods)\n",
    "        price_path = self.share_price * np.cumprod(daily_returns)\n",
    "\n",
    "        return price_path\n",
    "\n",
    "    def get_price_paths(self, n_paths, periods=365):\n",
    "        if not hasattr(self, '_price_paths'):\n",
    "            self._price_paths = []\n",
    "        for x in range(n_paths):\n",
    "            self._price_paths.append(self.simulate_path(periods=periods))"
   ]
  },
  {
   "cell_type": "code",
   "execution_count": null,
   "metadata": {},
   "outputs": [],
   "source": []
  },
  {
   "cell_type": "code",
   "execution_count": null,
   "metadata": {},
   "outputs": [],
   "source": [
    "Asset('savings_account', )"
   ]
  },
  {
   "cell_type": "code",
   "execution_count": null,
   "metadata": {},
   "outputs": [],
   "source": []
  },
  {
   "cell_type": "code",
   "execution_count": 9,
   "metadata": {},
   "outputs": [
    {
     "ename": "NameError",
     "evalue": "name 'Stock' is not defined",
     "output_type": "error",
     "traceback": [
      "\u001b[0;31m---------------------------------------------------------------------------\u001b[0m",
      "\u001b[0;31mNameError\u001b[0m                                 Traceback (most recent call last)",
      "\u001b[0;32m<ipython-input-9-0f13e8d7f415>\u001b[0m in \u001b[0;36m<module>\u001b[0;34m\u001b[0m\n\u001b[0;32m----> 1\u001b[0;31m St = Stock('SPY', shares=investments*portfolio['stock']/spy_price, share_price=spy_price, \n\u001b[0m\u001b[1;32m      2\u001b[0m            expected_growth=0.07, vol=1)\n",
      "\u001b[0;31mNameError\u001b[0m: name 'Stock' is not defined"
     ]
    }
   ],
   "source": [
    "St = Stock('SPY', shares=investments*portfolio['stock']/spy_price, share_price=spy_price, \n",
    "           expected_growth=0.07, vol=1)"
   ]
  },
  {
   "cell_type": "code",
   "execution_count": 10,
   "metadata": {},
   "outputs": [
    {
     "ename": "NameError",
     "evalue": "name 'St' is not defined",
     "output_type": "error",
     "traceback": [
      "\u001b[0;31m---------------------------------------------------------------------------\u001b[0m",
      "\u001b[0;31mNameError\u001b[0m                                 Traceback (most recent call last)",
      "\u001b[0;32m<ipython-input-10-f9e30c5b19b7>\u001b[0m in \u001b[0;36m<module>\u001b[0;34m\u001b[0m\n\u001b[0;32m----> 1\u001b[0;31m \u001b[0mSt\u001b[0m\u001b[0;34m.\u001b[0m\u001b[0mget_price_paths\u001b[0m\u001b[0;34m(\u001b[0m\u001b[0;36m10000\u001b[0m\u001b[0;34m)\u001b[0m\u001b[0;34m\u001b[0m\u001b[0;34m\u001b[0m\u001b[0m\n\u001b[0m\u001b[1;32m      2\u001b[0m \u001b[0mlen\u001b[0m\u001b[0;34m(\u001b[0m\u001b[0mSt\u001b[0m\u001b[0;34m.\u001b[0m\u001b[0m_price_paths\u001b[0m\u001b[0;34m)\u001b[0m\u001b[0;34m\u001b[0m\u001b[0;34m\u001b[0m\u001b[0m\n",
      "\u001b[0;31mNameError\u001b[0m: name 'St' is not defined"
     ]
    }
   ],
   "source": [
    "St.get_price_paths(10000)\n",
    "len(St._price_paths)"
   ]
  },
  {
   "cell_type": "code",
   "execution_count": 130,
   "metadata": {},
   "outputs": [
    {
     "data": {
      "text/plain": [
       "<matplotlib.axes._subplots.AxesSubplot at 0x11c5ffbe0>"
      ]
     },
     "execution_count": 130,
     "metadata": {},
     "output_type": "execute_result"
    },
    {
     "data": {
      "image/png": "[encoded data removed]",
      "text/plain": [
       "<matplotlib.figure.Figure at 0x11c5ff320>"
      ]
     },
     "metadata": {},
     "output_type": "display_data"
    }
   ],
   "source": [
    "pd.DataFrame(St._price_paths).quantile([0.01, 0.05, 0.25, 0.5, 0.75, 0.95, 0.99]).T.plot()"
   ]
  },
  {
   "cell_type": "markdown",
   "metadata": {},
   "source": [
    "# Goals\n",
    "1. Stock class that appreciates in value stochastically\n",
    "2. Liability class\n",
    "3. Net worth\n",
    "4. Simulate after 1 year\n",
    "5. Translate into a confidence interval"
   ]
  },
  {
   "cell_type": "code",
   "execution_count": 41,
   "metadata": {
    "collapsed": true
   },
   "outputs": [],
   "source": [
    "TIME_HORIZON_YEARS = 5\n",
    "\n",
    "age = 28\n",
    "salary = 150000 #\n",
    "taxes = .35 #\n",
    "\n",
    "investments = 40000\n",
    "portfolio = {\n",
    "    'stock': 1.0,\n",
    "    'bond': 0\n",
    "}\n",
    "\n",
    "cash = 20000\n",
    "\n",
    "rent = 1200 * 12\n",
    "living_expenses = 4000 * 12\n",
    "expenses = rent + living_expenses\n",
    "\n",
    "debt = 60000\n",
    "apr = .06\n",
    "\n",
    "\n",
    "\n",
    "#Other inputs\n",
    "spy_price = 100"
   ]
  },
  {
   "cell_type": "code",
   "execution_count": 266,
   "metadata": {
    "collapsed": true
   },
   "outputs": [],
   "source": []
  },
  {
   "cell_type": "code",
   "execution_count": 387,
   "metadata": {},
   "outputs": [],
   "source": [
    "### TO DO: General solution to converting a thing to a timeseries\n",
    "\n",
    "class User():\n",
    "    def __init__(self, email):\n",
    "        self.email = email\n",
    "        self.user_id = hash(email)\n",
    "        self.salary = None\n",
    "        self.expenses = []\n",
    "#         self.income_streams = []\n",
    "\n",
    "        \n",
    "#         self.assets = None\n",
    "#         self.liabilities = None\n",
    "#         self.gender = gender\n",
    "\n",
    "    @property\n",
    "    def income_streams(self):\n",
    "        return [self.salary]    \n",
    "        \n",
    "    @property\n",
    "    def income_streams_df(self):\n",
    "        \"\"\"Think about temporal aspect heere too\"\"\"\n",
    "        df = pd.concat([x.cash_flows for x in u.income_streams], axis=1)\n",
    "        df['total_income'] = df.sum(axis=1)\n",
    "        \n",
    "        return df\n",
    "        \n",
    "    @property\n",
    "    def total_income(self):\n",
    "        return self.income_streams_df.total_income\n",
    "    \n",
    "    @property\n",
    "    def expenses_df(self):\n",
    "        \"\"\"Think about temporal aspect heere too\"\"\"\n",
    "        df = pd.concat([x.cash_flows for x in u.expenses], axis=1)\n",
    "        df['total_expenses'] = df.sum(axis=1)\n",
    "        \n",
    "        return df\n",
    "    \n",
    "    @property\n",
    "    def total_expenses(self):\n",
    "        return self.expenses_df.total_expenses\n",
    "    \n",
    "    \n",
    "    @property\n",
    "    def cash_flows_df(self):\n",
    "        df = pd.concat([\n",
    "            self.income_streams_df, \n",
    "            -self.expenses_df\n",
    "        ], axis=1).fillna(0)\n",
    "        \n",
    "        return df\n",
    "    \n",
    "    def agg_cash_flows(self, freq):\n",
    "        return self.cash_flows_df.resample(freq).sum()\n",
    "    \n",
    "    @property\n",
    "    def net_cash_flow(self):\n",
    "        df = self.cash_flows_df\n",
    "        return df['total_income'] + df['total_expenses']\n",
    "    \n",
    "    def agg_net_cash_flows(self, freq):\n",
    "        return self.net_caash_flow.resample(freq).sum()\n",
    "    \n",
    "    @property\n",
    "    def assets(self):\n",
    "        return 5\n",
    "\n",
    "    @property\n",
    "    def liabilities(self):\n",
    "        return -2\n",
    "\n",
    "    @property\n",
    "    def net_worth(self):\n",
    "        \"\"\"How to handle the temporal aspect of this?\"\"\"\n",
    "        return self.assets + self.liabilities\n",
    "#         pass\n",
    "\n",
    " \n",
    "class CashFlow():\n",
    "    pass\n",
    "\n",
    "class Salary():\n",
    "    def annualize_salary(self, salary, fmt):\n",
    "        if fmt.lower() == 'year':\n",
    "            salary_annualized = salary\n",
    "        elif fmt.lower() == 'month':\n",
    "            salary_annualized = 12*salary\n",
    "        elif fmt.lower() == 'week':\n",
    "            salary_annualized = 52*salary\n",
    "        else: \n",
    "            raise ValueError(\"fmt.lower() must be one of ['year', 'month', 'week']\")\n",
    "        \n",
    "        return salary_annualized\n",
    "\n",
    "    def __init__(self, salary, sal_fmt, sal_freq , next_paycheck_dt, years=1, tax_withholding_rate=0.35):\n",
    "        self.salary_annualized = self.annualize_salary(float(salary), sal_fmt)\n",
    "        self.FREQ_MAP = {\n",
    "            'weekly': dict(periods=52, freq='7D'),\n",
    "            'bi-weekly': dict(periods=26, freq='14D'),\n",
    "            'twice monthly': dict(periods=24, freq='SM'), # [1st and 15th ('SMS') or 15th and last day of month ('SM)]\n",
    "            'monthly': dict(periods=12, freq=pd.DateOffset(months=1, day=next_paycheck_dt.day))\n",
    "        }\n",
    "        self.payday_freq = sal_freq\n",
    "        self._annual_pmt_periods = self.FREQ_MAP.get(sal_freq).get('periods')\n",
    "        self._pmt_freqs = self.FREQ_MAP.get(sal_freq).get('freq')\n",
    "        self._pmt_size = self.salary_annualized/self._annual_pmt_periods\n",
    "        \n",
    "        self.date_range = pd.date_range(\n",
    "            start=next_paycheck_dt, \n",
    "            periods=(years * self._annual_pmt_periods), \n",
    "            freq=self._pmt_freqs\n",
    "        )\n",
    "        \n",
    "        self.tax_withholding_rate = tax_withholding_rate\n",
    "    \n",
    "    \n",
    "    @property\n",
    "    def cash_flow(self):\n",
    "        pmt = self._pmt_size * (1 - self.tax_withholding_rate)\n",
    "        ## TO DO: consider adding other witholding stuff\n",
    "        return pmt\n",
    "    \n",
    "    \n",
    "    @property\n",
    "    def cash_flows(self):\n",
    "        pmt = self.cash_flow\n",
    "        df =  pd.DataFrame(\n",
    "            index=self.date_range, \n",
    "            data=[pmt]*len(self.date_range), \n",
    "            columns=['salary']\n",
    "        )\n",
    "        # Consider adding columns for [salary, after-tax, after withholding, etc.]\n",
    "        \n",
    "        return df\n",
    "        \n",
    "        \n",
    "    def plot_salary_pmts(self, **kwargs):\n",
    "        self.cash_flows.resample('d').mean().cumsum().fillna(method='ffill').plot(**kwargs)\n",
    "        "
   ]
  },
  {
   "cell_type": "code",
   "execution_count": null,
   "metadata": {
    "collapsed": true
   },
   "outputs": [],
   "source": [
    "1. Positive & negative cashflows\n",
    "2. Assets & liabilities"
   ]
  },
  {
   "cell_type": "code",
   "execution_count": 346,
   "metadata": {
    "scrolled": true
   },
   "outputs": [
    {
     "data": {
      "text/html": [
       "<div>\n",
       "<style>\n",
       "    .dataframe thead tr:only-child th {\n",
       "        text-align: right;\n",
       "    }\n",
       "\n",
       "    .dataframe thead th {\n",
       "        text-align: left;\n",
       "    }\n",
       "\n",
       "    .dataframe tbody tr th {\n",
       "        vertical-align: top;\n",
       "    }\n",
       "</style>\n",
       "<table border=\"1\" class=\"dataframe\">\n",
       "  <thead>\n",
       "    <tr style=\"text-align: right;\">\n",
       "      <th></th>\n",
       "      <th>rent</th>\n",
       "      <th>utilities</th>\n",
       "      <th>other</th>\n",
       "      <th>total_expenses</th>\n",
       "    </tr>\n",
       "  </thead>\n",
       "  <tbody>\n",
       "    <tr>\n",
       "      <th>2019-05-31</th>\n",
       "      <td>1450.0</td>\n",
       "      <td>225.0</td>\n",
       "      <td>6000.0</td>\n",
       "      <td>7675.0</td>\n",
       "    </tr>\n",
       "    <tr>\n",
       "      <th>2019-06-30</th>\n",
       "      <td>1450.0</td>\n",
       "      <td>225.0</td>\n",
       "      <td>6000.0</td>\n",
       "      <td>7675.0</td>\n",
       "    </tr>\n",
       "    <tr>\n",
       "      <th>2019-07-31</th>\n",
       "      <td>1450.0</td>\n",
       "      <td>225.0</td>\n",
       "      <td>6000.0</td>\n",
       "      <td>7675.0</td>\n",
       "    </tr>\n",
       "    <tr>\n",
       "      <th>2019-08-31</th>\n",
       "      <td>1450.0</td>\n",
       "      <td>225.0</td>\n",
       "      <td>6000.0</td>\n",
       "      <td>7675.0</td>\n",
       "    </tr>\n",
       "    <tr>\n",
       "      <th>2019-09-30</th>\n",
       "      <td>1450.0</td>\n",
       "      <td>225.0</td>\n",
       "      <td>6000.0</td>\n",
       "      <td>7675.0</td>\n",
       "    </tr>\n",
       "    <tr>\n",
       "      <th>2019-10-31</th>\n",
       "      <td>1450.0</td>\n",
       "      <td>225.0</td>\n",
       "      <td>6000.0</td>\n",
       "      <td>7675.0</td>\n",
       "    </tr>\n",
       "    <tr>\n",
       "      <th>2019-11-30</th>\n",
       "      <td>1450.0</td>\n",
       "      <td>225.0</td>\n",
       "      <td>6000.0</td>\n",
       "      <td>7675.0</td>\n",
       "    </tr>\n",
       "    <tr>\n",
       "      <th>2019-12-31</th>\n",
       "      <td>1450.0</td>\n",
       "      <td>225.0</td>\n",
       "      <td>6000.0</td>\n",
       "      <td>7675.0</td>\n",
       "    </tr>\n",
       "    <tr>\n",
       "      <th>2020-01-31</th>\n",
       "      <td>1450.0</td>\n",
       "      <td>225.0</td>\n",
       "      <td>6000.0</td>\n",
       "      <td>7675.0</td>\n",
       "    </tr>\n",
       "    <tr>\n",
       "      <th>2020-02-29</th>\n",
       "      <td>1450.0</td>\n",
       "      <td>225.0</td>\n",
       "      <td>6000.0</td>\n",
       "      <td>7675.0</td>\n",
       "    </tr>\n",
       "    <tr>\n",
       "      <th>2020-03-31</th>\n",
       "      <td>1450.0</td>\n",
       "      <td>225.0</td>\n",
       "      <td>6000.0</td>\n",
       "      <td>7675.0</td>\n",
       "    </tr>\n",
       "    <tr>\n",
       "      <th>2020-04-30</th>\n",
       "      <td>1450.0</td>\n",
       "      <td>225.0</td>\n",
       "      <td>6000.0</td>\n",
       "      <td>7675.0</td>\n",
       "    </tr>\n",
       "  </tbody>\n",
       "</table>\n",
       "</div>"
      ],
      "text/plain": [
       "              rent  utilities   other  total_expenses\n",
       "2019-05-31  1450.0      225.0  6000.0          7675.0\n",
       "2019-06-30  1450.0      225.0  6000.0          7675.0\n",
       "2019-07-31  1450.0      225.0  6000.0          7675.0\n",
       "2019-08-31  1450.0      225.0  6000.0          7675.0\n",
       "2019-09-30  1450.0      225.0  6000.0          7675.0\n",
       "2019-10-31  1450.0      225.0  6000.0          7675.0\n",
       "2019-11-30  1450.0      225.0  6000.0          7675.0\n",
       "2019-12-31  1450.0      225.0  6000.0          7675.0\n",
       "2020-01-31  1450.0      225.0  6000.0          7675.0\n",
       "2020-02-29  1450.0      225.0  6000.0          7675.0\n",
       "2020-03-31  1450.0      225.0  6000.0          7675.0\n",
       "2020-04-30  1450.0      225.0  6000.0          7675.0"
      ]
     },
     "execution_count": 346,
     "metadata": {},
     "output_type": "execute_result"
    }
   ],
   "source": [
    "u.expenses_df"
   ]
  },
  {
   "cell_type": "code",
   "execution_count": 352,
   "metadata": {
    "collapsed": true
   },
   "outputs": [],
   "source": [
    "class Expense():\n",
    "    FREQ_CONFIG = {\n",
    "        'M': dict(\n",
    "            start=pd.datetime.today() + pd.offsets.MonthBegin(normalize=True),\n",
    "            periods=12,\n",
    "            freq='MS'\n",
    "        )\n",
    "    } \n",
    "    \n",
    "    def __init__(self, exp_type, amount, freq):\n",
    "        self.exp_type = exp_type\n",
    "        self.amount = amount\n",
    "        self.freq = freq\n",
    "        self._freq_config = self.FREQ_CONFIG.get(self.freq)\n",
    "        self._date_range = pd.date_range(\n",
    "            start=self._freq_config['start'],\n",
    "            periods=self._freq_config['periods'],\n",
    "            freq=self._freq_config['freq'],\n",
    "        )\n",
    "        \n",
    "        \n",
    "    @property\n",
    "    def cash_flows(self):\n",
    "        df =  pd.DataFrame(\n",
    "            index=self._date_range, \n",
    "            data=[self.amount]*len(self._date_range), \n",
    "            columns=[self.exp_type]\n",
    "        )\n",
    "\n",
    "        return df\n",
    "\n",
    "class Rent(Expense):\n",
    "    def __init__(self, amount, freq='M'):\n",
    "        \"\"\"TO DO: include a date_of_pmt thing?\"\"\"\n",
    "        super().__init__(exp_type='rent', amount=amount, freq=freq)\n",
    "\n",
    "        \n",
    "class Utilities(Expense):\n",
    "    def __init__(self, amount, freq='M'):\n",
    "        super().__init__(exp_type='utilities', amount=amount, freq=freq)\n",
    "    "
   ]
  },
  {
   "cell_type": "code",
   "execution_count": 353,
   "metadata": {
    "collapsed": true
   },
   "outputs": [],
   "source": [
    "class Liability():\n",
    "    def __init__(liability_type):\n",
    "        self.liability_type = liability_type\n",
    "        \n",
    "class Asset():\n",
    "    def __init__(asset_type):\n",
    "        self.asset_type = asset_type\n",
    "        "
   ]
  },
  {
   "cell_type": "code",
   "execution_count": null,
   "metadata": {
    "collapsed": true
   },
   "outputs": [],
   "source": []
  },
  {
   "cell_type": "markdown",
   "metadata": {},
   "source": [
    "## Are you currently earning a salary?\n",
    "- Yes \n",
    "-> How much do you earn a [week / month / year] before taxes?\n",
    "-> How often do you get paid? [bi-weekly | twice a month | other (every xx days)]\n",
    "-> We estimate your tax rate is XX%, would you like to change this estimate? [We estimate your take home pay is ~65% of your paycheck]\n",
    "-> [Withholding]\n",
    "-> Do you put any % of your paycheck in a 401k? If so, does your employer match any % of it?\n",
    "-> Do you get employer health insurance? Do you pay for it?\n",
    "-> We calculate that you have ~$YYY dollars remaining from every paycheck, lets try to understand where that goes:\n",
    "* Do you rent or own your residence?\n",
    "- How much of your paycheck goes to rent/mortgage per month? [DB: If mortgage, need different flow for maintenance and shit; One potential value-add is highlighting expenses that tend to be highly variable] \n",
    "* Utilities?\n",
    "* Food/Groceries? [Per Month | week]\n",
    "* Transportation (E.g. Metrocard, Car + Insurance + Gas, citibike, etc.) [Per Month | week]\n",
    "-> Alright, after expenses it seems like you have $ZZ dollars left over per month, we can either assume that money goes into a savings account or you can give us some more details on where you think it's going. Please check all that apply:\n",
    "* Savings\n",
    "* Investment\n",
    "* Paying down debt, e.g. [Student, credit card, (mortgage?)]\n",
    "* Consumption\n",
    "- Clothes\n",
    "- Alcohol\n",
    "- Restaurants/bars\n",
    "- Entertainment, e.g. movies, baseball games, \n",
    "- Other: [     ]\n",
    "\n",
    "-> Do you want to tell us more about any of those?\n",
    "\n",
    "## Do you have any savings?\n",
    "-> Cash in checking / savings accounts\n",
    "-> Investments\n",
    "* 401k (you told us you ...)\n",
    "* Roth IRA\n",
    "* Brokerage (e.g. TD Ameritrade, Vanguard, etc.)\n",
    "--> What do you own?\n",
    "* Stocks\n",
    "* Bonds\n",
    "\n",
    "## Do you have any debt?\n",
    "-> Mortgage\n",
    "-> Credit card\n",
    "-> Student debt\n",
    "-> Car Lease\n",
    "\n",
    "## Tell us a little bit about yourself\n",
    "-> Where do you live?\n",
    "-> What do you do? / What industry are you in? [present some potential categories htat match from gov]\n",
    "-> Are you married? Single? Getting engaged soon? When?\n",
    "-> Kids?\n",
    "-> Age\n",
    "-> \n",
    "\n",
    "## Are you expecting any major new expenses? When?\n",
    "[Is it a one-time expense or recurring?]\n",
    "-> Having a kid\n",
    "-> New car/home\n",
    "-> Vaca\n",
    "-> [ENTER BIG TICKET ITEM]\n",
    "\n"
   ]
  },
  {
   "cell_type": "code",
   "execution_count": null,
   "metadata": {
    "collapsed": true
   },
   "outputs": [],
   "source": []
  },
  {
   "cell_type": "code",
   "execution_count": null,
   "metadata": {
    "collapsed": true
   },
   "outputs": [],
   "source": [
    "Salary()"
   ]
  }
 ],
 "metadata": {
  "kernelspec": {
   "display_name": "Python 3",
   "language": "python",
   "name": "python3"
  },
  "language_info": {
   "codemirror_mode": {
    "name": "ipython",
    "version": 3
   },
   "file_extension": ".py",
   "mimetype": "text/x-python",
   "name": "python",
   "nbconvert_exporter": "python",
   "pygments_lexer": "ipython3",
   "version": "3.7.3"
  }
 },
 "nbformat": 4,
 "nbformat_minor": 2
}
